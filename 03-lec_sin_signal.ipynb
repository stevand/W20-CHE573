{
 "cells": [
  {
   "cell_type": "markdown",
   "metadata": {},
   "source": [
    "- KEYWORDS: Frequency concept, periodic signals\n"
   ]
  },
  {
   "cell_type": "code",
   "execution_count": 1,
   "metadata": {},
   "outputs": [
    {
     "name": "stdout",
     "output_type": "stream",
     "text": [
      "# Out[26]:"
     ]
    }
   ],
   "source": []
  },
  {
   "cell_type": "markdown",
   "metadata": {},
   "source": [
    "## Sampling, Aliasing and Sampling Theorem\n",
    "\n"
   ]
  },
  {
   "cell_type": "markdown",
   "metadata": {},
   "source": [
    "-   In the real world, a physical signal (for example, temperature, pressure, flow rate signals) is analog by nature and can be described as a continuous-time function. In order to process analog signals using computers and DSP algorithms, analog signals are converted to digital signals via analog-to-digital (A/D) conversion. The A/D process in general includes *sampling*, *quantization* and *coding*. Coding means to code a signal in the language of a computer. We discussed sampling and quantization very briefly in previous section. In this section, we will discuss more on sampling.\n",
    "\n"
   ]
  },
  {
   "cell_type": "markdown",
   "metadata": {},
   "source": [
    "### Sampling\n",
    "\n"
   ]
  },
  {
   "cell_type": "markdown",
   "metadata": {},
   "source": [
    "-   **Sampling** is the process of converting a continuous-time (analog) signal into a discrete-time signal by taking \\`samples' at discrete-time instants. The process of sampling can be illustrated using the following figure:\n",
    "\n",
    "![img](./figuresCHE573/l4_sampler2.png \"Sampling\")\n",
    "\n",
    "-   In this figure, the continuous-time signal $x_c(t)$ is sampled every time $T$. Please pay attention to the relationship between $t$ and $n$. The process of sampling can be represented using block diagram as follows:\n",
    "\n",
    "![img](./figuresCHE573/l4_sampler.png \"Sampler\")\n",
    "\n",
    "-   The relationship between the resulting discrete-time signal $x(n)$ and $x_c(t)$ is that:\n",
    "    \n",
    "    $$x(n) = x_c(t)|_{t=nT}=x_c(nT)$$\n",
    "    \n",
    "    where $n$ is the sample number, $T$ is the sampling interval (or sampling time or sampling period). Note that one assumption used here is that the continuous-time signal is sampled using periodic sampling. We define:\n",
    "    \n",
    "    $$F_s = \\dfrac{1}{T}$$\n",
    "    \n",
    "    as the *sampling frequency* (or *sampling rate*). The relationship between $t$, $n$, $T$ and $F_s$ is as follows:\n",
    "    \n",
    "    $$t=nT=\\dfrac{n}{F_s}$$\n",
    "    \n",
    "    **Example:**\n",
    "    \n",
    "    -   Given $x_c(t)=2^t$, if it is sampled at a rate $F_s=2$ samples/second. What is the corresponding sampled discrete-time signal?\n",
    "    \n",
    "    First, we can calculate the sampling period $T=1/F<sub>s</sub>=0.5$~second. Then, we can list all the values like below:\n",
    "    \n",
    "    $$\\begin{array}{lll}n \\quad\\quad & t\\quad\\quad  & x(n)\\\\0 & 0 & 2^0 = 1\\\\1 & 0.5 & 2^{0.5}=1.412\\\\2 & 1 & 2^1=2\\\\3 & 1.5 & 2^{1.5}=2.8284\\\\4 & 2 & 2^2=4\\end{array}$$\n",
    "    \n",
    "    Or we can write:\n",
    "    $$x(n) = x_c(t)|_{t=nT}=x_c(0.5n)=2^{0.5n}$$\n",
    "\n"
   ]
  },
  {
   "cell_type": "markdown",
   "metadata": {},
   "source": [
    "### Aliasing\n",
    "\n"
   ]
  },
  {
   "cell_type": "markdown",
   "metadata": {},
   "source": [
    "-   Let us start this section with an example. Consider two CT signals:\n",
    "    \n",
    "    $$\\begin{array}{rcl} x_{c1} & = & \\cos(2\\pi F_1t), \\quad {with~} F_1=\\dfrac{1}{8}~Hz\\\\ x_{c2} & = & \\cos(2\\pi F_2t), \\quad {with~} F_2=-\\dfrac{7}{8}~Hz\\\\\\end{array}$$\n",
    "\n",
    "When they are sampled at a frequency $F_s=1$ (i.e., $T=1$), what are the resulting DT signals?\n",
    "\n",
    "Let us use the relationship $x(n)=x_c(nT)$ to write down the corresponding DT signals. For $x_{c1}$, the corresponding DT signal is as follows:\n",
    "\n",
    "$$x_1(n) = x_{c1}(nT)=\\cos(2\\pi F_1 nT)$$\n",
    "\n",
    "Noticing that $T=1$ and $F_1=1/8$, it can be obtained that:\n",
    "\n",
    "$$x_1(n) = \\cos(2\\pi \\dfrac{1}{8}n)$$\n",
    "\n",
    "Using the same approach, it can be obtained that the corresponding DT signal of $x_{2c}$ is:\n",
    "\n",
    "$$x_2(n) = \\cos(-2\\pi \\dfrac{7}{8}n)$$\n",
    "\n",
    "The frequency of this DT sinusoid is $f_2=-7/8$ which is out of the range $[-1/2,1/2]$. The above signal is an alias of the following signal:\n",
    "\n",
    "$$x_2(n) = \\cos(-2\\pi \\dfrac{7}{8}n)=\\cos(-2\\pi\\dfrac{7}{8}n + 2\\pi n)=\\cos(2\\pi \\dfrac{1}{8}n)$$\n",
    "\n",
    "This implies that the sampled signals from $x_{c1}$ and $x_{c2}$ are the same. The following figure illustrates this example.\n",
    "\n",
    "![img](./figuresCHE573/l4_sampledsignals.png \"Sampled signals\")\n",
    "\n",
    "-   In previous sections, we defined alias in terms of the frequency of DT sinusoids. We extend the definition to include continuous-time signals here.\n",
    "\n",
    "-   Consider two CT sinusoidal signals with different frequencies $F_1$ and $F_2$ such that $|F_1|<|F_2|$. If they are sampled at the same rate $F_s$ and the obtained DT signals are identical, we say that $F_2$ is an *alias* of frequency $F_1$ at the sampling rate of $F_s$. This phenomena is called / aliasing/.\n",
    "\n",
    "-   In above Example, frequency $F_2=-\\dfrac{7}{8}$ is an alias of $F_1=\\dfrac{1}{8}$ at the sampling rate $F_s=1$. It can be further verified that frequencies $F_k=F_1+kF_s$ with $k$ an integer are aliases of $F_1$ at the sampling rate $F_s$.\n",
    "\n",
    "-   A natural follow-up question is that: what is the reason for aliasing?\n",
    "\n",
    "-   Let us consider a CT sinusoidal signal:\n",
    "    \n",
    "    $$x_c(t) = A\\cos(2\\pi F_0 t+\\theta)$$\n",
    "\n",
    "with a sampling rate $F_s$. The resulting DT signal is:\n",
    "\n",
    "$$x(n) = A\\cos(2\\pi F_0 \\dfrac{n}{F_s}+\\theta)=A\\cos(2\\pi \\dfrac{F_0}{F_s}n+\\theta)$$\n",
    "\n",
    "The frequency of the DT signal is:\n",
    "\n",
    "$$f_0=\\dfrac{F_0}{F_s}$$\n",
    "\n",
    "From the previous section, we know that the fundamental frequency range of a DT sinusoid is $[-1/2,1/2]$. Based on this, we have the following cases:\n",
    "\n",
    "-   If the frequency of the DT signal $f_0$ satisfies:\n",
    "\n",
    "$$|f_0|\\leq \\dfrac{1}{2}$$\n",
    "\n",
    "or, equivalently:\n",
    "\n",
    "$$ \\left|\\dfrac{F_0}{F_s}\\right|\\leq \\dfrac{1}{2} \\quad {or} \\quad -\\dfrac{1}{2}F_s\\leq F_0\\leq \\dfrac{1}{2}F_s,$$\n",
    "\n",
    "the DT signal $x(n)$ is uniquely represented. There will be {\\em no aliasing}. $\\dfrac{1}{2}F_s$ is the highest frequency that can be represented uniquely with a sampling rate $F_s$ which is called the {\\em folding frequency} at the sampling rate $F_s$.\n",
    "\n",
    "-   If $|f_0|>\\dfrac{1}{2}$ (or $|F_s|<2|F_0|$), then the resulting DT signal with a sampling rate $F_s$ will not be appropriate to represent the CT signal and *aliasing occurs*.\n",
    "    \n",
    "    **Example:** In above Example, $F_s=1$, it can be seen that $F_s>2F_1$ so $F_s=1$ is appropriate for $x_{c1}$ and the resulting DT signal $x_1(n)$ is appropriate to represent $x_{c1}$. However, it can be seen that $F_s<2F_2$. Thus, $F_s=1$ is not appropriate for $x_{c2}$ and aliasing occurs. If we sample the two signals at $F_s'=2$, aliasing will be avoided.\n",
    "\n"
   ]
  },
  {
   "cell_type": "markdown",
   "metadata": {},
   "source": [
    "### Sampling theorem\n",
    "\n"
   ]
  },
  {
   "cell_type": "markdown",
   "metadata": {},
   "source": [
    "-   The above discussion leads the sampling theorem. Let us suppose that any analog signal can be represented (or approximately sufficiently accurate) as a sum of sinusoids of different amplitudes, frequencies and phases such that:\n",
    "    \n",
    "    $$ x_c(t) = \\sum_{i=1}^NA_i\\cos(2\\pi F_it+\\theta_i)$$\n",
    "    \n",
    "    **Remark:** All signals satisfy such a representation over any short time segment.\n",
    "    \n",
    "    From the earlier discussion, we have the following **Shannon's Sampling Theorem**:\n",
    "    \n",
    "    ***Shannon's Sampling Theorem:*** If the highest frequency contained in an analog signal $x_c(t)$ is $F_{\\max}$ and the signal is sampled at a rate $F_s>2F_{\\max}$, then $x_c(t)$ can be exactly recovered from its samples $x(n)$.}\n",
    "    \n",
    "    Sampling theorem tells us the minimum sampling rate needed for a signal. The minimum sampling rate $2F_{\\max}$ is also called the *Nyquist frequency*.\n",
    "    \n",
    "    Audio CDs use a sampling rate of 44.1 kHz for storage. This frequency is slightly more than $2\\times 20$ kHz and $20$ kHz is in general the accepted upper limit of human hearing of musical sound.\n",
    "\n"
   ]
  },
  {
   "cell_type": "markdown",
   "metadata": {},
   "source": [
    "### Digital Signal Processing\n",
    "\n"
   ]
  },
  {
   "cell_type": "markdown",
   "metadata": {},
   "source": [
    "-   Digital signal processing is the process of processing digital signals to extract information for various applications. Most of the signals in science and engineering are analog. Digital computers and associated digital devices can only deal with digital signals. An analog signal is typically first converted to a digital signal via an analog-to-digital (A/D) converter (in general including sampling, quantization and coding). The resulting digital signal is then processed in a digital signal processor (system/filter). The processed signal is then converted to an analog signal via a digital-to-analog (D/A) converter.\n",
    "    -   The above process can be described by the following block diagram:\n",
    "\n"
   ]
  },
  {
   "cell_type": "markdown",
   "metadata": {},
   "source": [
    "### Application of DSP in process control\n",
    "\n"
   ]
  },
  {
   "cell_type": "markdown",
   "metadata": {},
   "source": [
    "-   DSP can be used in many different applications to uncover information contained in data. In this subsection, we discuss the potential applications of DSP in process control. In CHE 446 Process Control course, we learned that the closed-loop system can be represented using the following block diagram:\n",
    "\n",
    "![img](./figuresCHE573/ditaa-closed-loop.png)\n",
    "\n",
    "-   Nowadays, most of the controllers are implemented via computers or digital devices. The controller can only handle digital signals and send out digital control actions. A more realistic representation of the closed-loop system is the following diagram:\n",
    "\n",
    "![img](./figuresCHE573/ditaa-closed-loop-AD.png)\n",
    "\n",
    "-   The output of the controller $u$ is in general first converted to continuous-time signal via a zero-order holder (ZOH) and then sent to the actuator to implement. On the other hand, the measurements of the sensor is in generally converted to digital signals via an A/D converter. Because of measurement noise, there is normally a prefilter to avoid aliasing of high-frequency noise and another filter to reduce the noise in the measurement signal. The filtered signal is then compared with the set-point and used in the controller.\n",
    "\n"
   ]
  },
  {
   "cell_type": "markdown",
   "metadata": {},
   "source": [
    "## Offline signal preprocessing\n",
    "\n"
   ]
  },
  {
   "cell_type": "markdown",
   "metadata": {},
   "source": [
    "-   Process signals (for example, sensor measurements) are in general very noisy. These signals should not be used directly for data analysis.  These signals need to be preprocessed. There are many data preprocessing techniques including outlier detection, missing data replacement, data cleaning, data reduction etc. In this course, we will briefly discuss outlier detection and handling.\n",
    "    \n",
    "    -   *Outlier detection* is the process of finding samples in data that do not conform to expected normal behavior. An *outlier* is a sample that appears to deviate obviously from other samples. Let's use a simple water tank example to illustrate the concept of outliers.\n",
    "    \n",
    "    -   Let us say that we have a water tank with some water in it. In order to measure the level of the water, the tank is equipped with a pressure sensor at the bottom. The pressure sensor gives us samples of the pressure. Even though the water level in the tank is steady, the readings from the senor may fluctuate as shown in the right figure. Note that we can consider the sequence of the samples as a signal. To get an estimate of the water level, one simple yet practical approach is to calculate the mean of the samples. If there are $N$ samples, an estimate of the actual pressure is calculated as follows:\n",
    "    \n",
    "    $$ P_{ave} = \\dfrac{\\displaystyle\\sum_{n=1}^NP(n)}{N}$$\n",
    "\n",
    "![img](./figuresCHE573/ch1_watertank.png \"Water tank signals\")\n",
    "\n",
    "-   However, before we do the above calculation, it would be very important for us to pre-processing the data (signal) by removing the outliers since they may indicate  *bad data*. For example, the sensor may be not running correctly or there is significant measurement noise or unexpected disturbances. In order to detect the outliers, we can calculate the standard deviation of the samples:\n",
    "\n",
    "![img](./figuresCHE573/ch1_watertankmeasurements.png \"Water tank signals\")\n",
    "\n",
    "$$\\sigma = \\sqrt{\\dfrac{1}{N-1}\\displaystyle\\sum_{n=1}^N(P(n)-P_{ave})^2}$$\n",
    "\n",
    "-   The outliers can be determined following the following rules:\n",
    "    -   If $P(n)\\geq P_{ave} + 3\\sigma$, then $P(n)$ is declared to be an outlier;\n",
    "    -   If $P_{ave}-3\\sigma < P(n)< P_{ave} + 3\\sigma$, then $P(n)$ is a normal sample;\n",
    "    -   If $P(n)\\leq P_{ave} - 3\\sigma$, then $P(n)$ is declared to be an outlier.\n",
    "\n"
   ]
  },
  {
   "cell_type": "markdown",
   "metadata": {},
   "source": [
    "## Summary\n",
    "\n"
   ]
  },
  {
   "cell_type": "markdown",
   "metadata": {},
   "source": [
    "-   We introduce singal samling and aliasing due to the sampling\n",
    "    -   We provide a Shanon theorem and demonstrate how to find a sampling that will not induce aliasing\n",
    "\n"
   ]
  },
  {
   "cell_type": "markdown",
   "metadata": {},
   "source": [
    "## Followup actions\n",
    "\n"
   ]
  },
  {
   "cell_type": "markdown",
   "metadata": {},
   "source": [
    "-   Run the python code and demonstrate the sampling of the signal\n",
    "\n"
   ]
  }
 ],
 "metadata": {
  "kernelspec": {
   "display_name": "Python 3",
   "language": "python",
   "name": "python3"
  },
  "language_info": {
   "codemirror_mode": {
    "name": "ipython",
    "version": 3
   },
   "file_extension": ".py",
   "mimetype": "text/x-python",
   "name": "python",
   "nbconvert_exporter": "python",
   "pygments_lexer": "ipython3",
   "version": "3.7.7"
  },
  "org": {
   "KEYWORDS": "Frequency concept, periodic signals"
  },
  "toc": {
   "base_numbering": 1,
   "nav_menu": {},
   "number_sections": false,
   "sideBar": false,
   "skip_h1_title": false,
   "title_cell": "Table of Contents",
   "title_sidebar": "Contents",
   "toc_cell": false,
   "toc_position": {},
   "toc_section_display": false,
   "toc_window_display": false
  }
 },
 "nbformat": 4,
 "nbformat_minor": 1
}
