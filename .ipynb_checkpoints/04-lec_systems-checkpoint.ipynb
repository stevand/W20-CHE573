{
 "cells": [
  {
   "cell_type": "markdown",
   "metadata": {},
   "source": [
    "- KEYWORDS: System, Discretization, z-transform\n"
   ]
  },
  {
   "cell_type": "code",
   "execution_count": 1,
   "metadata": {},
   "outputs": [
    {
     "name": "stdout",
     "output_type": "stream",
     "text": [
      "# Out[0]:"
     ]
    }
   ],
   "source": []
  },
  {
   "cell_type": "markdown",
   "metadata": {},
   "source": [
    "## Systems\n",
    "\n"
   ]
  },
  {
   "cell_type": "markdown",
   "metadata": {},
   "source": [
    "-   A **system** is defined as a device or a process that can manipulate, change or transmit signals. In other words, a system operates on signals to produce new signals. In this course, our focus is on discrete-time systems. The following representations of a system will be frequently used:\n",
    "    \n",
    "    -   Mathematical representation:\n",
    "        \n",
    "        $$y(n) = T\\{x(n)\\}\\label{eq1}\\tag{1}$$\n",
    "    \n",
    "    where $x$ is the input signal to the system, $y$ is the output signal of the system and $T$ denotes the system. Equation [eq1](#eq1) is a very abstract representation of a system. In this course, the following *difference equation* representation based on inputs and outputs of DT systems will be very often used:\n",
    "    \n",
    "    $$y(n) = -\\sum\\limits_{k=1}^{N}a_ky(n-k)+\\sum\\limits_{k=0}^M b_k x(n-k)\\label{eq2}\\tag{2}$$\n",
    "    \n",
    "    where the first term on the right characterizes the effect of the previous outputs of the system and the second term on the right characterizes the effect of the current and the previous inputs. The first term on the right is also called the *zero input contribution to the output* and the second term on the right is called the *zero state contribution to the output*.\n",
    "    \n",
    "    -   The following is an example of system described by its inputs and output:\n",
    "        \n",
    "        $$y(n) = x(n) + 2x(n-1)$$\n",
    "\n",
    "![img](./figuresCHE573/ditaa-diagram-system.png)\n",
    "\n",
    "-   **Filters**: A *filter* is an unit that attenuates some frequency components of the input signal to produce a desired output. A filter could be an algorithm or a hardware device. Theoretically, there is no distinction between a system and a filter in their operation on the input signals. *A filter is a system and a system is a filter.*\n",
    "\n",
    "-   The processes (like reactors, separators, heat exchangers) we deal with in process control are continuous-time systems. When we use digital computers to implement a control system, we would like to have a discrete-time model of the process.\n",
    "\n",
    "-   We know that in order to describe the dynamics of a continuous-time system, *ordinary differential equations* (ODEs) are used. Discrete-time systems, as mentioned earlier, are described by difference equations. In this section, we discuss two approaches to convert continuous-time systems described by ODEs to discrete-time systems described by difference equations. We illustrate the two approaches using an example.\n",
    "\n",
    "-   Consider a tank with an input stream at mass flow rate $\\dot m$ and temperature $T_i$ and an output stream at mass flow rate $\\dot m$ and temperature $T$. The tank is well mixed and the temperature inside the tank is the same as $T$. The tank is shown in the following graph.\n",
    "\n",
    "![img](./figuresCHE573/ditaa-tank-system.png)\n",
    "\n",
    "-   The dynamics of $T$ in the tank can be described by the following ordinary differential equation:\n",
    "    \n",
    "    $$\\rho V \\dfrac{dT}{dt} = \\dot m T_i - \\dot m T \\label{eq3}\\tag{3}$$\n",
    "\n",
    "where $\\rho$ is the density of the liquid and $V$ is the volume of the liquid in the tank. Suppose that the temperature is sampled with a sampling time $T_s$ and we want to describe the dynamics of the temperature using a discrete-time system.\n",
    "\n",
    "-   **Approach 1:** The first approach we are going to discuss is called finite difference approximation. In this approach, the key step is to approximate the time derivative $\\dfrac{dT}{dt}$ using finite difference method:\n",
    "\n",
    "$$\\left.\\dfrac{dT}{dt}\\right|_{t=(n-1)T_s}\\approx \\dfrac{\\left.T(t)\\right|_{t=nT_s}-\\left.T(t)\\right|_{t=(n-1)T_s}}{T_s} =  \\dfrac{T_d(n)-T_d(n-1)}{T_s}$$\n",
    "\n",
    "where $T_d$ is the sampled temperature $T$. This approach uses the change rate of $T$ between the two sampling instants $n-1$ and $n$ to approximate the slope at the sampling instant $n-1$. It is *forward finite difference*. This approximation is illustrated in the following plot.\n",
    "\n",
    "![img](./figuresCHE573/ch2_dt.png \"Sampling\")\n",
    "\n",
    "Substituting expressions and evaluating the right-hand-side of above equation at the \\same\\\\ time instant $(n-1)T_s$, we have the following discrete-time description:\n",
    "\n",
    "$$\\rho V\\dfrac{T_d(n)-T_d(n-1)}{T_s}=\\dot m T_{i,d}(n-1) - \\dot m T_d(n-1)$$\n",
    "\n",
    "which leads to\n",
    "\n",
    "$$T_d(n)= (1 - \\dfrac{\\dot m T_s}{\\rho V}) T_d(n-1) + \\dfrac{\\dot m T_s}{\\rho V} T_{i,d}(n-1)$$\n",
    "\n",
    "which is the corresponding approximated first-order difference equation of [eq3](#eq3) .\n",
    "\n",
    "-   **Approach 2:** The difference equation is an approximation of the original continuous-time equation. We could use it to predict future values of $T_d$. However, the predicted value will be different from the actual value. The second approach we are going to discuss is called exact discretization. In this approach, we re-write equation in continuous-time state space form:\n",
    "    \n",
    "    $$\\begin{array}{rcl}\\dot y(t) & = & ay(t) + bx(t)\\end{array}$$\n",
    "\n",
    "where $y=T$, $a=-\\dfrac{\\dot m}{\\rho V}$, $b=\\dfrac{\\dot m}{\\rho V}$, and $x=T_i$. Consider the system is sampled with a sampling time $T_s$ and the input is piecewise constant, i.e., $u(t)=u((n-1)T_s)$ for $(n-1)T_s\\leq t\\leq nT_s$. Integrating (\\ref{eqn:ch2:cstrss}) from $t=(n-1)T$ to $t=nT$, we have:\n",
    "\n",
    "$$\\begin{array}{rcl}y(nT_s) & = & e^{aT_s}y((n-1)T_s)+[\\displaystyle\\int_{(n-1)T_s}^{nT_s}e^{a(nT_s-\\tau)}bx((n-1)T_s)d\\tau]\\\\ &=& e^{aT_s}y((n-1)T_s)+[\\displaystyle\\int_{(n-1)T_s}^{nT_s}e^{a(nT_s-\\tau)}bd\\tau]x((n-1)T_s)\\\\ & = & e^{aT_s}y((n-1)T_s)+[-\\dfrac{b}{a}e^{a(nT_s-\\tau)}|_{\\tau=(n-1)T_s}^{\\tau=nT_s}]x((n-1)T_s)\\vspace{2mm}\\\\ & = & e^{aT_s}y((n-1)T_s)+[-\\dfrac{b}{a}(1-e^{aT_s})]x((n-1)T_s)\\end{array}$$\n",
    "\n",
    "Let $T_d(n)=y(nT_s)$, $T_d(n-1)=y((n-1)T_s)$. We have\n",
    "\n",
    "$$T_d(n) = e^{-\\frac{\\dot mT_s}{\\rho V}}T_d(n-1)+(1-e^{-\\frac{\\dot mT_s}{\\rho V}})T_i(n-1)$$\n",
    "\n"
   ]
  },
  {
   "cell_type": "markdown",
   "metadata": {},
   "source": [
    "### Sampling\n",
    "\n"
   ]
  },
  {
   "cell_type": "markdown",
   "metadata": {},
   "source": [
    "![img](./figuresCHE573/l4_sampler2.png \"Sampling\")\n",
    "\n"
   ]
  },
  {
   "cell_type": "markdown",
   "metadata": {},
   "source": [
    "## Summary\n",
    "\n"
   ]
  },
  {
   "cell_type": "markdown",
   "metadata": {},
   "source": [
    "-   We introduce singal samling and aliasing due to the sampling\n",
    "    -   We provide a Shanon theorem and demonstrate how to find a sampling that will not induce aliasing\n",
    "\n"
   ]
  },
  {
   "cell_type": "markdown",
   "metadata": {},
   "source": [
    "## Followup actions\n",
    "\n"
   ]
  },
  {
   "cell_type": "markdown",
   "metadata": {},
   "source": [
    "-   Run the python code and demonstrate the sampling of the signal\n",
    "\n"
   ]
  }
 ],
 "metadata": {
  "kernelspec": {
   "display_name": "Python 3",
   "language": "python",
   "name": "python3"
  },
  "language_info": {
   "codemirror_mode": {
    "name": "ipython",
    "version": 3
   },
   "file_extension": ".py",
   "mimetype": "text/x-python",
   "name": "python",
   "nbconvert_exporter": "python",
   "pygments_lexer": "ipython3",
   "version": "3.7.3"
  },
  "org": {
   "KEYWORDS": "System, Discretization, z-transform"
  }
 },
 "nbformat": 4,
 "nbformat_minor": 1
}
