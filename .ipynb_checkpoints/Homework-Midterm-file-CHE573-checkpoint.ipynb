{
 "cells": [
  {
   "cell_type": "markdown",
   "metadata": {},
   "source": [
    "- KEYWORDS: HW\n"
   ]
  },
  {
   "cell_type": "code",
   "execution_count": 1,
   "metadata": {},
   "outputs": [
    {
     "name": "stdout",
     "output_type": "stream",
     "text": [
      "# Out[1]:"
     ]
    }
   ],
   "source": []
  },
  {
   "cell_type": "markdown",
   "metadata": {},
   "source": [
    "## Discrete System Properties\n",
    "\n"
   ]
  },
  {
   "cell_type": "markdown",
   "metadata": {},
   "source": [
    "## (20 pts) Choose the most appropriate answer (only one) to the following questions/statements.\n",
    "\n"
   ]
  },
  {
   "cell_type": "markdown",
   "metadata": {},
   "source": [
    "% {\\color{blue}{\\textbf{Solution:} D, C, C, D }}\n",
    "\n",
    "1.  (5 pts) Which of the following systems is a linear time-invariant (LTI) system?\n",
    "    -   $y(n)=12nx(n)+2$\n",
    "    -   $y(n)=n^2x(n)+2x(n-1)$\n",
    "    -   $y(n)=\\text{sin}(an)x(n)$ where $a$ is a nonzero constant\n",
    "    -   $y(n)=1.81y(n-2)+2x(n)-x(n-1)+x(n-2)$\n",
    "\n",
    "2.  (5 pts)  Which of the following systems is NOT a BIBO-(bounded input bounded output) stable linear system? Note that $y$ is the output and $x$ is the input.\n",
    "    -   $y(n)=0.81y(n-1)+2x(n)-x(n-1)+x(n-2)$\n",
    "    -   $y(n)=0.1y(n-1)+x(n)$\n",
    "    -   $y(n)=-5y(n-1)+6y(n-2)+x(n)-0.81x(n-1)$\n",
    "    -   $y(n)=0.5x(n)+0.1x(n-1)$\n",
    "\n",
    "3.  (5 pts) Which of the following signals is NOT a periodic signal?\n",
    "    -   $x(t)=A\\cos(5t)$\n",
    "    -   $x(n)=A\\cos(2\\pi n)$\n",
    "    -   $x(n) = A \\cos(5 n)$\n",
    "    -   $x(n)=A\\cos(5\\pi n +\\pi/6)$\n",
    "\n",
    "4.  (5 pts) In order to recover information contained in the following analog signal from its samples:\n",
    "    \n",
    "    $$    x(t) = \\cos(4\\pi t+0.3)+2.3\\cos(3.8\\pi t-1.57)-\\sin(5.4\\pi t+1.5)$$\n",
    "    \n",
    "    which of the following sampling frequencies is appropriate?\n",
    "    \n",
    "    -   $F_{s1} = 0.9$ Hertz\n",
    "    -   $F_{s2} = 0.5$ Hertz\n",
    "    -   $F_{s3} = 0.8\\pi$ Hertz\n",
    "    -   $F_{s4} = 1000$ Hertz\n",
    "\n"
   ]
  },
  {
   "cell_type": "markdown",
   "metadata": {},
   "source": [
    "% {\\color{blue}{\\textbf{Solution:} D, C, C, D }}\n",
    "\n"
   ]
  },
  {
   "cell_type": "markdown",
   "metadata": {},
   "source": [
    "## Summary\n",
    "\n"
   ]
  }
 ],
 "metadata": {
  "kernelspec": {
   "display_name": "Python 3",
   "language": "python",
   "name": "python3"
  },
  "language_info": {
   "codemirror_mode": {
    "name": "ipython",
    "version": 3
   },
   "file_extension": ".py",
   "mimetype": "text/x-python",
   "name": "python",
   "nbconvert_exporter": "python",
   "pygments_lexer": "ipython3",
   "version": "3.7.7"
  },
  "org": {
   "KEYWORDS": "HW"
  },
  "toc": {
   "base_numbering": 1,
   "nav_menu": {},
   "number_sections": false,
   "sideBar": false,
   "skip_h1_title": false,
   "title_cell": "Table of Contents",
   "title_sidebar": "Contents",
   "toc_cell": false,
   "toc_position": {},
   "toc_section_display": false,
   "toc_window_display": false
  }
 },
 "nbformat": 4,
 "nbformat_minor": 1
}
