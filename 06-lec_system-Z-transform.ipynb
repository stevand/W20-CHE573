{
 "cells": [
  {
   "cell_type": "markdown",
   "metadata": {},
   "source": [
    "- KEYWORDS: Z-transform\n"
   ]
  },
  {
   "cell_type": "code",
   "execution_count": 1,
   "metadata": {},
   "outputs": [
    {
     "name": "stdout",
     "output_type": "stream",
     "text": [
      "# Out[2]:"
     ]
    }
   ],
   "source": []
  },
  {
   "cell_type": "markdown",
   "metadata": {},
   "source": [
    "## Z-Transform\n",
    "\n"
   ]
  },
  {
   "cell_type": "markdown",
   "metadata": {},
   "source": [
    "In the previous sections, we discussed signals and systems. In this section, we discuss an important tool in the analysis of signals and linear time invariant systems. The tool is $Z$-transform. $Z$-transform plays the same role in the analysis of discrete-time signals and LTI systems as the Laplace transform does in the analysis of continuous-time signals and LTI systems.\n",
    "\n"
   ]
  },
  {
   "cell_type": "markdown",
   "metadata": {},
   "source": [
    "### Definition\n",
    "\n"
   ]
  },
  {
   "cell_type": "markdown",
   "metadata": {},
   "source": [
    "The (one-sided) $Z$-transform of a discrete-time signal $x(n)$ is defined as the power series:\n",
    "\n",
    "$$X(z) = \\sum_{n=0}^\\infty x(n)z^{-n}\\label{eq1}\\tag{1}$$\n",
    "\n",
    "where $z$ is a complex variable. The relation eq1 is sometimes called the direct $Z$-transform because it transforms the time-domain signal $x(n)$ into its complex-domain representation $X(z)$.\n",
    "\n",
    "For convenience, the $Z$-transform of a signal $x(n)$ is denoted by:\n",
    "\n",
    "$$X(z)\\equiv Z\\{x(n)\\}$$\n",
    "\n",
    "Since the $Z$-transform is an infinite power series, it exists only for those values of $z$ for which the series converges. The region of convergence (ROC) of $X(z)$ is the set of all values of $z$ for which $X(z)$ attains a finite value. In this course, we will discuss ROC very briefly but it is important for you to keep in mind that $z$-transform of a signal is defined for a certain region.\n",
    "\n"
   ]
  },
  {
   "cell_type": "markdown",
   "metadata": {},
   "source": [
    "### Example\n",
    "\n"
   ]
  },
  {
   "cell_type": "markdown",
   "metadata": {},
   "source": [
    "Determine the $Z$-transforms of the following signal\n",
    "\n",
    "$$h(n)=\\{1,2,1,-1\\}$$\n",
    "To determine the $z$-transform of $h(n)$, we use the definition:\n",
    "\n",
    "$$\\begin{array}{rcl}H(z) & = & \\sum_{n=0}^{\\infty}h(n)z^{-n}\\\\&= & 1\\cdot z^0 + 2\\cdot z^{-1} + 1\\cdot z^{-2} + (-1)\\cdot z^{-3}\\\\& = & 1 + 2z^{-1} + z^{-2} - z^{-3}\\end{array}$$\n",
    "\n",
    "The exponent of $Z$ contains the time information that we need to identify the samples of the signal. One good thing in $z$-transform is that in many cases, the sum of the finite or infinite series for the $z$-transform can be expressed in a closed form.\n",
    "\n"
   ]
  },
  {
   "cell_type": "markdown",
   "metadata": {},
   "source": [
    "### Example\n",
    "\n"
   ]
  },
  {
   "cell_type": "markdown",
   "metadata": {},
   "source": [
    "Determine the $z$-transform of the signal:\n",
    "\n",
    "$$x(n) = \\dfrac{1}{2^n}u(n) $$\n",
    "\n",
    "where $u(n)$ is the unit step signal.\n",
    "\n",
    "The signal $x(n)$ consists of an infinite number of nonzero values. If we write it in the form of sequence, it is:\n",
    "\n",
    "$$x(n) = \\{1,\\dfrac{1}{2},\\dfrac{1}{2^2},\\dfrac{1}{2^3},\\ldots,\\dfrac{1}{2^n},\\ldots\\}$$\n",
    "\n",
    "The $z$-transform of $x(n)$ is the infinite power series:\n",
    "\n",
    "$$\\begin{array}{rcl} X(z) & = & 1 + \\dfrac{1}{2}z^{-1} + \\dfrac{1}{2^2}z^{-2} + \\ldots + \\dfrac{1}{2^n}z^{-n} + \\ldots\\\\ & = & \\sum_{n=0}^{\\infty}\\dfrac{1}{2^n}z^{-n} =\\sum_{n=0}^{\\infty}\\left(\\dfrac{1}{2}z^{-1}\\right)^n\\end{array}$$\n",
    "\n",
    "This is an infinite geometric series. Recall that:\n",
    "\n",
    "$$1+A+A^2+A^3+\\ldots+A^n+\\ldots=\\dfrac{1}{1-A},\\;{if~}|A|<1$$\n",
    "\n",
    "Consequently, for $|\\dfrac{1}{2}z^{-1}|<1$, or equivalently, for $|z|>\\dfrac{1}{2}$, $X(z)$ converges to:\n",
    "\n",
    "$$X(z)=\\dfrac{1}{1-\\frac{1}{2}z^{-1}}$$\n",
    "\n",
    "with the ROC being $|z|>\\dfrac{1}{2}$.\n",
    "\n"
   ]
  },
  {
   "cell_type": "markdown",
   "metadata": {},
   "source": [
    "### Example\n",
    "\n"
   ]
  },
  {
   "cell_type": "markdown",
   "metadata": {},
   "source": [
    "Determine the $z$-transform of the signal\n",
    "\n",
    "$$x(n)=\\alpha^nu(n)=\\left\\{\\begin{array}{c}\\alpha^n,\\; n\\geq 0\\\\0,\\quad n<0\\end{array}\\right.$$\n",
    "\n",
    "Again, from the definition of $z$-transform, we have\n",
    "\n",
    "$$X(z) = \\sum_{n=0}^{\\infty}\\alpha^nz^{-n} = \\sum_{n=0}^{\\infty}\\left(\\alpha z^{-1}\\right)^n$$\n",
    "\n",
    "If $|\\alpha z^{-1}|<1$ or equivalently, $|z|>|\\alpha|$, this power series converges:\n",
    "\n",
    "$$X(z) = \\dfrac{1}{1-\\alpha z^{-1}}$$\n",
    "with the ROC being $|z|>|\\alpha|$.\n",
    "\n",
    "In this course, we will primarily focus on signals that only have non-zero values for $n\\geq0$ like the ones considered in above Examples. These signals are called causal signals.\n",
    "\n",
    "Some of the commonly used $z$-transforms are shown in Table below.\n",
    "\n",
    "Some commonly used $z$-transforms\n",
    "\n",
    "| |x(n)|X(z)|\n",
    "|---|---|---|\n",
    "| 1|$\\delta(n)$|1|\n",
    "| 2|$ u(n) $|$ \\dfrac{1}{1 - z^{-1}}$|\n",
    "| 3|$ a^nu(n) $|$ \\dfrac{1}{1 -  a z^{-1}}$|\n",
    "| 4|$ na^nu(n) $|$ \\dfrac{az^{-1}}{(1 -  az^{-1})^2}$|\n",
    "| 5|$ cos(wn)u(n)$|$ \\dfrac{1-z^{-1}\\cos w}{1 - 2z^{-1}\\cos w+z^{-2}}$|\n",
    "| |||\n",
    "\n"
   ]
  },
  {
   "cell_type": "markdown",
   "metadata": {},
   "source": [
    "### Properties of the (z)-transform\n",
    "\n"
   ]
  },
  {
   "cell_type": "markdown",
   "metadata": {},
   "source": [
    "The $z$-transform is a very powerful tool for the study of discrete-time signals and systems. The power of this transform is a consequence of some very important properties that the transform possesses.\n",
    "\n",
    "Linearity\n",
    "If\n",
    "\n",
    "$$\\begin{array}{rcl} X_1(z) &= & Z\\{x_1(n)\\}\\\\ X_2(z) & = & Z\\{x_2(n)\\} \\end{array}$$\n",
    "\n",
    "then,\n",
    "\n",
    "$$ \\begin{array}{rcl}Z\\{\\alpha x_1(n)+\\beta x_2(n)\\} = \\alpha X_1(z) + \\beta X_2(z)\\end{array}$$\n",
    "\n",
    "for any constant $\\alpha$ and $\\beta$.\n",
    "\n",
    "The linearity property can be generalized for an arbitrary number of signals. Basically, it implies that the $Z$-transform of a linear combination of signals is the same linear combination of their $Z$-transforms. The linear property can help us to find the $Z$-transform of a signal by expressing the signal as a sum of elementary signals, for each of which, the $Z$-transform is already known.\n",
    "\n"
   ]
  },
  {
   "cell_type": "markdown",
   "metadata": {},
   "source": [
    "### Time shifting\n",
    "\n"
   ]
  },
  {
   "cell_type": "markdown",
   "metadata": {},
   "source": [
    "If\n",
    "\n",
    "$$\\begin{array}{rcl}X(z) & = & Z\\{x(n)\\}\\end{array}$$\n",
    "\n",
    "then,\n",
    "\n",
    "$$\\begin{array}{rcl}Z\\{x(n-k)\\} = z^{-k}[X(z)+\\displaystyle\\sum_{l=1}^kx(-l)z^l],\\quad {for~} k&gt;0\\end{array}$$\n",
    "\n",
    "This property can be easily proved using the definition of $z$-transform. The properties of linearity and time-shifting are the key features that make the $z$-transform extremely useful for the analysis of discrete-time LTI systems. This property is very useful in the analysis of systems with non-zero initial conditions.\n",
    "\n",
    "Recall that the coefficient $z^{-n}$ is the sample value at time $n$, it can be seen from the property that delaying a signal by $k$ samples (i.e., $x(n)\\rightarrow x(n-k)$) corresponds to multiplying all terms of the $z$-transform by $z^{-k}$ while considering its initial values (i.e., $x(-l)$). The coefficient of $z^{-n}$ becomes the coefficient of $z^{-(n+k)}$. Sometimes, we call $z^{-1}$ a unit delay.\n",
    "\n"
   ]
  },
  {
   "cell_type": "markdown",
   "metadata": {},
   "source": [
    "### Example\n",
    "\n"
   ]
  },
  {
   "cell_type": "markdown",
   "metadata": {},
   "source": [
    "If\n",
    "   $$Z\\{x(n)\\} = X(z)$$\n",
    "\n",
    "then\n",
    "\n",
    "$$\\begin{array}{rcl}Z\\{x(n-3)\\}& = & z^{-3}[X(z)+x(-1)z+x(-2)z^2+x(-3)z^3]\\\\ & = & z^{-3}X(z)+x(-1)z^{-2}+x(-2)z^{-1}+x(-3)\\end{array}$$\n",
    "\n",
    "Convolution of two sequences\n",
    "\n",
    "If\n",
    "\n",
    "$$\\begin{array}{rcl}X_1(z) & = & Z\\{x_1(n)\\}\\\\X_2(z) & = & Z\\{x_2(n)\\}\\end{array}$$\n",
    "\n",
    "then,\n",
    "\n",
    "$$\\begin{array}{rcl}Z\\{x_1(n)*x_2(n)\\} = X_1(z)X_2(z).\\end{array}$$\n",
    "\n",
    "The ROC of $X(z)$ is at least the intersection of that of $X_1(z)$ and $X_2(z)$.\n",
    "\n"
   ]
  },
  {
   "cell_type": "markdown",
   "metadata": {},
   "source": [
    "### Example\n",
    "\n"
   ]
  },
  {
   "cell_type": "markdown",
   "metadata": {},
   "source": [
    "Determine the step response of the system\n",
    "\n",
    "$$y(n)=\\alpha y(n-1) + x(n),\\quad -1&lt;\\alpha&lt;1$$\n",
    "\n",
    "when the initial condition is $y(-1)=1$.\n",
    "\n",
    "This example problem asks us to find $y(n)$ when ($x(n)=u(n)$) (step response). This is not a relaxed system and it has a nonzero initial condition $y(-1)=1$.\n",
    "\n",
    "To find the solution to this difference equation, we take $z$-transform of both sides of the equation:\n",
    "\n",
    "$$Y(z)=\\alpha z^{-1}[Y(z) + y(-1)z]+X(z)=\\alpha z^{-1}Y(z)+\\alpha y(-1) + X(z)$$\n",
    "\n",
    "We know that $y(-1)=1$ and $X(z)=\\dfrac{1}{1-z^{-1}}$. From the above equation, it can be obtained that:\n",
    "\n",
    "$$Y(z) = \\dfrac{\\alpha}{1-\\alpha z^{-1}} + \\dfrac{1}{(1-\\alpha z^{-1})(1-z^{-1})}$$\n",
    "\n",
    "By performing a partial fraction expansion and inverse transforming the result, we have:\n",
    "\n",
    "$$\\begin{array}{rclll}y(n) = & \\alpha^{n+1}u(n) & + &\\dfrac{1-\\alpha^{n+1}}{1-\\alpha}u(n)\\end{array}$$\n",
    "\n",
    "The zero input response $\\alpha^{n+1}u(n)$ corresponds to the effect of the initial condition and the zero state response corresponds to the effect of the input on the response.\n",
    "\n"
   ]
  },
  {
   "cell_type": "markdown",
   "metadata": {},
   "source": [
    "## Transfer Function and its Application in System Analysis\n",
    "\n"
   ]
  },
  {
   "cell_type": "markdown",
   "metadata": {},
   "source": [
    "### Transfer function\n",
    "\n"
   ]
  },
  {
   "cell_type": "markdown",
   "metadata": {},
   "source": [
    "In this section, we introduce the transfer function of a discrete-time LTI system. In this section, we assume that we have relaxed systems and we focus on zero state responses. In our previous discussion, we know that the response of a relaxed system to arbitrary input $x(n)$ can be computed using the convolution of $x(n)$ and the impulse response of the system $h(n)$. That is,\n",
    "\n",
    "$$y(n) = h(n)*x(n)$$\n",
    "\n",
    "If we take $z$-transform of both sides, we get:\n",
    "\n",
    "$$Y(z) = H(z)X(z)$$\n",
    "\n",
    "The $z$-transform of $h(n)$ can be determined like:\n",
    "\n",
    "$$H(z) = \\dfrac{Y(z)}{X(z)}$$\n",
    "\n",
    "which is defined as the transfer function of the system in the $z$-domain. From our previous discussion, we know that a discrete-time system can be described by its inputs and outputs:\n",
    "\n",
    "$$y(n) = -\\displaystyle\\sum_{k=1}^{N}a_k y(n-k) + \\displaystyle\\sum_{k=0}^Mb_kx(n-k)$$\n",
    "\n",
    "Taking the $z$-transform of this equation, we have:\n",
    "\n",
    "$$Y(z) = -\\displaystyle\\sum_{k=1}^{N}a_k z^{-k}Y(z) + \\displaystyle\\sum_{k=0}^Mb_kz^{-k}X(z)$$\n",
    "\n",
    "From the above equation, we can find a general description of the transfer function:\n",
    "\n",
    "$$\\begin{array}{rcl}H(z) & = &\\dfrac{Y(z)}{X(z)}=\\dfrac{\\sum_{k=0}^Mb_kz^{-k}}{1+\\sum_{k=1}^{N}a_kz^{-k}}\\\\\n",
    "H(z)& =&\\dfrac{b_0+b_1z^{-1}+b_2z^{-2}+\\ldots+b_Mz^{-M}}{1+a_1z^{-1}+a_2z^{-2}+\\ldots+a_Nz^{-N}}\\end{array}$$\n",
    "\n",
    "If $b_0\\neq 0$, multiplying both denominator and numerator by $z^N$, we can write:\n",
    "\n",
    "$$\\begin{array}{rcl}H(z)&=&\\dfrac{b_0z^N+b_1z^{N-1}+b_2z^{N-2}+\\ldots+b_Mz^{N-M}}{z^N+a_1z^{N-1}+a_2z^{N-2}+\\ldots+a_N}\\\\& = &b_0z^{N-M}\\dfrac{z^M+\\frac{b_1}{b_0}z^{M-1}+\\frac{b_2}{b_0}z^{M-2}+\\ldots+\\frac{b_M}{b_0}}{z^N+a_1z^{N-1}+a_2z^{N-2}+\\ldots+a_N}\\end{array}$$\n",
    "\n",
    "Noticing that the highest powers of $z$ of the numerator and denominator are $M$ and $N$, respectively, can be written in the following form by factorization:\n",
    "\n",
    "$$\\begin{array}{rcl}H(z) & = &b_0z^{N-M}\\dfrac{(z-z_1)(z-z_2)\\ldots(z-z_M)}{(z-p_1)(z-p_2)\\ldots(z-p_N)}\\end{array}$$\n",
    "\n",
    "Depending on the values of $N$ and $M$, we have the following cases:\n",
    "\n",
    "-   If $N>M$, the system has $N-M$ zeros at $z=0$ and $M$ zeros at $z=z_1, \\ldots, z=z_M$; and the system has $N$ poles at $z=p_1$, $z=p_2,\\ldots,z=p_N$.\n",
    "-   If $N=M$, the system has $M$ zeros at $z=z_1$, $\\ldots$, $z=z_M$; and the system has $N$ poles at $z=p_1$, $z=p_2$, $\\ldots$, $z=p_N$.\n",
    "-   If $N<M$, the system has $M$ zeros at $z=z_1$, $\\ldots$, $z=z_M$; and the system has $M-N$ poles at $z=0$ and $N$ poles at $z=p_1$, $z=p_2$, $\\ldots$, $z=p_N$.\n",
    "\n"
   ]
  },
  {
   "cell_type": "markdown",
   "metadata": {},
   "source": [
    "### Example\n",
    "\n"
   ]
  },
  {
   "cell_type": "markdown",
   "metadata": {},
   "source": [
    "Determine the poles and zeros of the following system:\n",
    "\n",
    "$$y(n) = 0.81 y(n-2) + x(n) - 5x(n-1) + 6x(n-2)$$\n",
    "\n",
    "First, we find the transfer function of this system. To do so, we take $z$-transform of both sides:\n",
    "\n",
    "$$Y(z) = 0.81z^{-2}Y(z) + X(z)-5z^{-1}X(z)+6z^{-2}X(z)$$\n",
    "\n",
    "The transfer function of the system is:\n",
    "\n",
    "$$H(z) = \\dfrac{Y(z)}{X(z)} = \\dfrac{1-5z^{-1}+6z^{-2}}{1-0.81z^{-2}}$$\n",
    "\n",
    "Multiplying both numerator and denominator by $z^2$:\n",
    "\n",
    "$$H(z) = \\dfrac{z^2-5z+6}{z^2-0.81}=\\dfrac{(z-2)(z-3)}{(z-0.9)(z+0.9)}$$\n",
    "\n",
    "In this case, $M=N$ and we have the following results:\n",
    "\n",
    "Two poles: $p_1=0.9$, $p_2=-0.9$\n",
    "Two zeros: $z_1=2$, $z_2=3$\n",
    "\n"
   ]
  },
  {
   "cell_type": "markdown",
   "metadata": {},
   "source": [
    "### Example\n",
    "\n"
   ]
  },
  {
   "cell_type": "markdown",
   "metadata": {},
   "source": [
    "One can use control toolbox in python\n",
    "\n"
   ]
  },
  {
   "cell_type": "code",
   "execution_count": 1,
   "metadata": {},
   "outputs": [
    {
     "name": "stdout",
     "output_type": "stream",
     "text": [
      "fig1\n",
      "# Out[41]:\n",
      "#+BEGIN_EXAMPLE\n",
      "  [<matplotlib.lines.Line2D at 0x10936cf10>,\n",
      "  <matplotlib.lines.Line2D at 0x108d0df90>]\n",
      "#+END_EXAMPLE"
     ]
    },
    {
     "data": {
      "image/png": "[encoded data removed]",
      "text/plain": [
       "<matplotlib.figure.Figure>"
      ]
     },
     "metadata": {},
     "output_type": "display_data"
    }
   ],
   "source": [
    "%matplotlib inline\n",
    "import matplotlib.pyplot as plt\n",
    "import numpy as np\n",
    "import math\n",
    "import control\n",
    "\n",
    "t=np.linspace(0,15,31)\n",
    "x=np.sin(t)\n",
    "\n",
    "sys = control.StateSpace(-0.5, 1, 1, 0)\n",
    "print(sys)\n",
    "sysd = sys.sample(0.5, method='bilinear')\n",
    "\n",
    "T, yout=control.impulse_response(sysd,t,0.1)\n",
    "T, yout1=control.step_response(sysd,t,0.1)\n",
    "\n",
    "# given the step input convolve the impulse response with it\n",
    "u=np.ones(len(yout[0,:]))\n",
    "Y=np.convolve(yout[0,:],u)\n",
    "\n",
    "print(Y)\n",
    "plt.xlabel('n')\n",
    "plt.ylabel('$y(n)$')\n",
    "print(yout[0,:])\n",
    "plt.plot(T,yout[0,:],'bo-',T,yout1[0,:],'b+')"
   ]
  },
  {
   "cell_type": "markdown",
   "metadata": {},
   "source": [
    "## Summary\n",
    "\n"
   ]
  },
  {
   "cell_type": "markdown",
   "metadata": {},
   "source": [
    "$z$- transform inroduction\n",
    "\n",
    "Response by z-transform\n",
    "\n"
   ]
  }
 ],
 "metadata": {
  "kernelspec": {
   "display_name": "Python 3",
   "language": "python",
   "name": "python3"
  },
  "language_info": {
   "codemirror_mode": {
    "name": "ipython",
    "version": 3
   },
   "file_extension": ".py",
   "mimetype": "text/x-python",
   "name": "python",
   "nbconvert_exporter": "python",
   "pygments_lexer": "ipython3",
   "version": "3.7.7"
  },
  "org": {
   "KEYWORDS": "Z-transform"
  },
  "toc": {
   "base_numbering": 1,
   "nav_menu": {},
   "number_sections": false,
   "sideBar": false,
   "skip_h1_title": false,
   "title_cell": "Table of Contents",
   "title_sidebar": "Contents",
   "toc_cell": false,
   "toc_position": {},
   "toc_section_display": false,
   "toc_window_display": false
  }
 },
 "nbformat": 4,
 "nbformat_minor": 1
}
