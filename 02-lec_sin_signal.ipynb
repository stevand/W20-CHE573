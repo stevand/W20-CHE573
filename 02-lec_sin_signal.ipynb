{
 "cells": [
  {
   "cell_type": "markdown",
   "metadata": {},
   "source": [
    "- KEYWORDS: Frequency concept, periodic signals\n"
   ]
  },
  {
   "cell_type": "code",
   "execution_count": 1,
   "metadata": {},
   "outputs": [
    {
     "name": "stdout",
     "output_type": "stream",
     "text": [
      "# Out[0]:"
     ]
    }
   ],
   "source": []
  },
  {
   "cell_type": "markdown",
   "metadata": {},
   "source": [
    "## Concept of Frequency in CT and DT Sinusoidal Signals\n",
    "\n"
   ]
  },
  {
   "cell_type": "markdown",
   "metadata": {},
   "source": [
    "-   In this section, we will discuss the concept of frequency in continuous-time (CT) and discrete-time (DT) signals. Specifically, we will focus on CT sinusoidal and DT sinusoidal signals. The reason is that we could use a sum of several sinusoids of different amplitudes and frequencies to approximate many signals:\n",
    "    \n",
    "    $$x(t) \\approx \\sum\\limits_{i=1}^NA_i\\cos(2\\pi F_i t + \\theta_i).$$\n",
    "    \n",
    "    This implies that sinusoidal signals are the basics of general signals.\n",
    "\n"
   ]
  },
  {
   "cell_type": "markdown",
   "metadata": {},
   "source": [
    "### Representation of CT sinusoids\n",
    "\n"
   ]
  },
  {
   "cell_type": "markdown",
   "metadata": {},
   "source": [
    "-   A continuous-time sinusoid is mathematically described as follows:\n",
    "    \n",
    "    $$x_c(t) = A \\cos(\\Omega t + \\theta),\\; -\\infty<t<\\infty.$$\n",
    "    \n",
    "    -   The subscript $c$ used with $x$ denotes a continuous-time signal. This signal is completely characterized by three parameters: $A$ is the **amplitude** of the sinusoid; $\\Omega$ is the **frequency** in *radian per second*; $\\theta$ is the **phase** in *radians*. An example is shown in the Figure below.\n",
    "\n"
   ]
  },
  {
   "cell_type": "code",
   "execution_count": 1,
   "metadata": {},
   "outputs": [
    {
     "name": "stdout",
     "output_type": "stream",
     "text": [
      "fig1\n",
      "# Out[24]:\n",
      "#+BEGIN_EXAMPLE\n",
      "  [<matplotlib.lines.Line2D at 0x107a7a910>,\n",
      "  <matplotlib.lines.Line2D at 0x107a7a950>]\n",
      "#+END_EXAMPLE"
     ]
    },
    {
     "data": {
      "image/png": "[encoded data removed]",
      "text/plain": [
       "<matplotlib.figure.Figure>"
      ]
     },
     "metadata": {},
     "output_type": "display_data"
    }
   ],
   "source": [
    "%matplotlib inline\n",
    "import matplotlib.pyplot as plt\n",
    "import numpy as np\n",
    "import math\n",
    "\n",
    "\n",
    "t=np.linspace(-2*math.pi,2*math.pi,100)\n",
    "x=np.sin(t)\n",
    "\n",
    "plt.xlabel('t')\n",
    "plt.ylabel('$x_c(t)$')\n",
    "plt.plot(t,x,t,np.zeros(len(t)),'-')"
   ]
  },
  {
   "cell_type": "markdown",
   "metadata": {},
   "source": [
    "-   Instead of $\\Omega$, we quite often use the **frequency** $F$ in *cycles per second* or *hertz* (Hz). The relationship between $\\Omega$ and $F$ is as follows:\n",
    "    \n",
    "    $$\\Omega = 2\\pi F\\label{eq1}\\tag{1}$$\n",
    "    \n",
    "    -   In terms of $F$, ref:eq1 can be written as:\n",
    "    \n",
    "    $$x_c(t) = A \\cos(2\\pi F t + \\theta),\\; -\\infty<t<\\infty.$$\n",
    "    \n",
    "    Both above forms will be used.\n",
    "\n"
   ]
  },
  {
   "cell_type": "markdown",
   "metadata": {},
   "source": [
    "### Properties of CT sinusoids\n",
    "\n"
   ]
  },
  {
   "cell_type": "markdown",
   "metadata": {},
   "source": [
    "An analog sinusoidal signal is characterized by the following properties:\n",
    "\n",
    "-   **Periodicity**. For every fixed value of frequency $F$, $x_c$ is periodic. There exists $T_p$ such that\n",
    "    \n",
    "    $$x_c(t+T_p)=x_c(t)$$\n",
    "    \n",
    "    for all $-\\infty<t<\\infty$. It is easy to show that $T_p=\\pm\\dfrac{k}{F}$ with $k$ a positive integer satisfies the above condition:\n",
    "    \n",
    "    $$\\begin{array}{rcl}x_c(t+T_p) & = & A\\cos[2\\pi F (t+T_p)+\\theta]=A\\cos[2\\pi F (t\\pm\\dfrac{k}{F})+\\theta]\\\\& = & A\\cos(2\\pi F t+\\theta\\pm2\\pi k) = A\\cos(2\\pi Ft+\\theta)\\\\& = & x_c(t) \\end{array}$$\n",
    "    \n",
    "    Indeed, $T_p=\\dfrac{1}{F}$ is defined as the **fundamental period** of the sinusoidal signal.\n",
    "    \n",
    "    Example: Consider the following signal:\n",
    "    \n",
    "    $$x_a(t) = 20\\cos(80\\pi t - 1.57) $$\n",
    "    \n",
    "     which can be rewritten as follows:\n",
    "    $$ x_a(t) = 20\\cos(80\\pi t - 1.57)=20\\cos(2\\pi\\cdot 40\\cdot t -1.57)$$\n",
    "    \n",
    "    It can be seen that $F=40$ which implies that the fundamental period is $T_p=1/40=0.025$.\n",
    "\n",
    "-   CT sinusoids with different frequencies are themselves different. For example, if we have two signals:\n",
    "    \n",
    "    $$\\begin{array}{rcl}x_{c1}(t) & = & A\\cos(2\\pi F_1t+\\theta)\\\\    x_{c2}(t) & = & A\\cos(2\\pi F_2t+\\theta)\\end{array}$$\n",
    "    \n",
    "    where $F_1\\neq F_2$, then the two signals are different.\n",
    "\n",
    "-   Increasing $|F|$ results in an increase in the rate of oscillation.\n",
    "\n",
    "-   The range of the frequency of CT sinusoids is:\n",
    "    \n",
    "    $$-\\infty < F <\\infty$$\n",
    "    \n",
    "    Note that when $F=0$, the fundamental period $T_p=\\infty$ which implies that there is no oscillation.\n",
    "\n"
   ]
  },
  {
   "cell_type": "markdown",
   "metadata": {},
   "source": [
    "## Representation of DT sinusoids\n",
    "\n"
   ]
  },
  {
   "cell_type": "markdown",
   "metadata": {},
   "source": [
    "-   A discrete-time sinusoidal signal can be described as follows:\n",
    "    \n",
    "    $$x(n) = A\\cos(\\omega n + \\theta), \\; -\\infty<n<\\infty$$\n",
    "    \n",
    "    where $n$ is an integer variable denoting the sampling number. $A$ is the **amplitude** of the sinusoid, $\\omega$ is the **frequency** in *radians per sample*, and $\\theta$ is the **phase** in *radians*.\n",
    "    \n",
    "    -   Like in the continuous case, instead of $\\omega$, we often use the frequency $f$ in *cycles per sample*. The relationship between $\\omega$ and $f$ is as follows:\n",
    "    \n",
    "    $$\\omega=2\\pi f$$\n",
    "    \n",
    "    -   In term of $f$, above equation can be written as follows:\n",
    "    \n",
    "    $$x(n) = A\\cos(2\\pi f n + \\theta), \\; -\\infty<n<\\infty$$\n",
    "    \n",
    "    Figure below shows a sinusoid with frequency $w=\\pi/6$ radians per sample ($f=1/12$ cycles per sample) and phase $\\theta=\\pi/3$.\n",
    "\n"
   ]
  },
  {
   "cell_type": "code",
   "execution_count": 1,
   "metadata": {},
   "outputs": [
    {
     "name": "stdout",
     "output_type": "stream",
     "text": [
      "fig2\n",
      "# Out[25]:\n",
      "#+BEGIN_EXAMPLE\n",
      "  [<matplotlib.lines.Line2D at 0x107a6cf50>,\n",
      "  <matplotlib.lines.Line2D at 0x107a56050>]\n",
      "#+END_EXAMPLE"
     ]
    },
    {
     "data": {
      "image/png": "[encoded data removed]",
      "text/plain": [
       "<matplotlib.figure.Figure>"
      ]
     },
     "metadata": {},
     "output_type": "display_data"
    }
   ],
   "source": [
    "%matplotlib inline\n",
    "import matplotlib.pyplot as plt\n",
    "import numpy as np\n",
    "import math\n",
    "\n",
    "A=3\n",
    "omega=math.pi/6\n",
    "theta=math.pi/3\n",
    "\n",
    "t=np.linspace(-15,15,31)\n",
    "x=A*np.sin(omega*t+theta)\n",
    "\n",
    "plt.xlabel('n')\n",
    "plt.ylabel('$x_d(n)$')\n",
    "plt.plot(t,x,'bo',t,np.zeros(len(t)),'-')"
   ]
  },
  {
   "cell_type": "markdown",
   "metadata": {},
   "source": [
    "### Properties of DT sinusoids\n",
    "\n"
   ]
  },
  {
   "cell_type": "markdown",
   "metadata": {},
   "source": [
    "In contrast to CT sinusoids, the DT sinusoids have the following properties:\n",
    "\n",
    "-   **A discrete-time sinusoid is periodic only if its frequency $f$ is a rational number.** This property is quite different from CT sinusoids. This can be seen as follows:\n",
    "    By definition, a DT sinusoid is periodic if and only if there exists an integer $N>0$ such that\n",
    "    \n",
    "    $$x(n+N)=x(n) \\quad \\;\\text{for all}\\; n$$\n",
    "    \n",
    "    Let us calculate $x(n+N)$ and $x(n)$ separately and see what we get.\n",
    "    \n",
    "    $$\\begin{array}{rcl} x(n+N)&=&A\\cos[2\\pi f(n+N) +\\theta]\\\\&=&A\\cos(2\\pi fn + \\theta + 2\\pi fN)\\\\    x(n) &=& A\\cos(2\\pi fn +\\theta)    \\end{array}$$\n",
    "    \n",
    "    In order to have $x(n)=x(n+N)$, there must exist an integer $k$ such that:\n",
    "    \n",
    "    $$2\\pi fN = 2\\pi k$$\n",
    "    \n",
    "    or, equivalently,\n",
    "    \n",
    "    $$  f = \\dfrac{k}{N}$$\n",
    "    \n",
    "    According to above equation, a discrete-time sinusoidal signal is periodic only if its frequency $f$ can be expressed as the ratio of two integers. This is, $f$ is rational. The smallest $N$ such that above expression holds is called the **fundamental period**.\n",
    "    \n",
    "    **Remark**\n",
    "    \n",
    "    From the above discussion, it can be concluded that not all DT sinusoids are periodic. To determine the fundamental period $N$ of a DT periodic sinusoid, we can express its frequency $f$ and cancel the common factors so that $k$ and $N$ are relatively prime. Then, the fundamental period of the sinusoid is equal to $N$.\n",
    "    \n",
    "    **Example**:\n",
    "    Consider two DT sinusoids with frequencies $f_1=30/60$ and $f_2=31/60$, respectively. It can be found that the fundamental periods of the two signals are $N_1=2$ and $N_2=60$. From this example, it can be seen that a small change in frequency can result in a large change in the period.\n",
    "\n",
    "-   **Discrete-time sinusoids whose frequencies are separated by an integer multiple of $2\\pi$ are identical.**\n",
    "    \n",
    "    To prove this statement, let us consider the following sinusoids:\n",
    "    \n",
    "    $$\\begin{array}{rcl}x_1(n) & = & A\\cos(w_1n +\\theta)\\\\x_2(n) & = & A\\cos(w_2n +\\theta)\\end{array}$$\n",
    "    \n",
    "    where $-\\pi\\leq w_1\\leq \\pi$ and $w_2=w_1 + 2\\pi k$ with $k$ an integer. It can be seen that:\n",
    "    \n",
    "    $$\\begin{array}{rcl}x_2(n) & = & A\\cos(w_2n +\\theta) = A\\cos[(w_1+2\\pi k)n + \\theta]\\\\&=& A\\cos(w_1n + \\theta + 2\\pi kn) = A\\cos(w_1n + \\theta)\\\\&=& x_1(n) \\end{array}$$\n",
    "    \n",
    "    **Remark**\n",
    "    \n",
    "    The above property is due to the fact that the sampling number $n$ takes integer values which ensures that $2\\pi kn$ is always a value of integer multiple of $2\\pi$. This is an important difference between DT sinusoids and CT sinusoids.\n",
    "    \n",
    "    In terms of $f$, the above property can be stated as follows: {\\em discrete-time sinusoids whose frequencies are separated by an integer (such that $f_2=f_1+k$) are identical.}\n",
    "\n",
    "-   **Any signal resulting from a DT sinusoidal signal with $|w|>\\pi$ or $|f|>\\dfrac{1}{2}$ is identical to a signal obtained with $|w|<\\pi$ or $|f|<\\dfrac{1}{2}$.**\n",
    "    \n",
    "    This property is a result of the previous property. This property is based on the observation that any  frequency $w$ (or frequency $f$) can be represented as the sum of an  frequency $w_0$ (or a frequency $f_0$) between $-\\pi$ (or -1/2) and $\\pi$ (or 1/2) and an integer multiple of $2\\pi$ (or an integer). That is,\n",
    "    \n",
    "    $$ w = w_0 + 2\\pi k \\quad \\;or\\; \\quad f=f_0+k $$\n",
    "    \n",
    "    where $-\\pi\\leq w_0\\leq \\pi$ and $-1/2\\leq f_0\\leq 1/2$.\n",
    "    \n",
    "    **Example:**\n",
    "    Some examples,\n",
    "    \n",
    "    $$\\begin{array}{c}w = \\dfrac{4\\pi}{3} = -\\dfrac{2\\pi}{3}+2\\pi,\\;w=\\dfrac{8\\pi}{3} = \\dfrac{2\\pi}{3}+2\\pi\\\\ f = 1.1 = 0.1 + 1,\\; f = 9.6 = -0.4 + 10 \\end{array}$$\n",
    "    \n",
    "    Because of this similarity, we call DT sinusoid having the  frequency $|w|>\\pi$ (or $|f|>1/2$) an **alias** of the corresponding signal with $|w|<\\pi$ (or $|f|<1/2$).\n",
    "    \n",
    "    **Example**\n",
    "    \n",
    "    $x_1(n)$ is an alias of $x_2(n)$\n",
    "    \n",
    "    $$\\begin{array}{rcl}x_1(n) & = & A\\cos\\left(\\dfrac{7}{6}\\pi n +\\theta\\right)=A\\cos\\left[\\left(-\\dfrac{5}{6}\\pi + 2\\pi\\right)n + \\theta\\right]\\\\ x_2(n) & = & A\\cos\\left(-\\dfrac{5}{6}\\pi n + \\theta\\right)\\end{array}$$\n",
    "    \n",
    "    Thus, we regard frequencies in the range $-\\pi\\leq w\\leq \\pi$ or $-\\dfrac{1}{2}\\leq f\\leq \\dfrac{1}{2}$ as unique and all frequencies $|w|> \\pi$ or $|f|> \\dfrac{1}{2}$ as aliases. Further, we define:\n",
    "    \n",
    "    $$-\\pi\\leq w\\leq \\pi \\quad \\;or\\;\\quad -\\dfrac{1}{2}\\leq f\\leq \\dfrac{1}{2}$$\n",
    "    \n",
    "    as the **fundamental frequency range** of discrete-time sinusoids.\n",
    "\n",
    "-   **The highest rate of oscillation in a DT sinusoid is attained when $w=\\pm\\pi$ or $f=\\pm\\dfrac{1}{2}$.**\n",
    "    This property is a straightforward result of the previous property. When $f$ increase from 0 to 1/2, oscillation rate increases; when $f$ decreases from 0 to -1/2, oscillation rate increases.\n",
    "\n"
   ]
  },
  {
   "cell_type": "code",
   "execution_count": 1,
   "metadata": {},
   "outputs": [
    {
     "name": "stdout",
     "output_type": "stream",
     "text": [
      "fig3"
     ]
    }
   ],
   "source": [
    "%matplotlib inline\n",
    "import matplotlib.pyplot as plt\n",
    "import numpy as np\n",
    "import math\n",
    "\n",
    "A=1\n",
    "f=1./math.sqrt(17)\n",
    "omega=2*math.pi*f\n",
    "\n",
    "t=np.linspace(-15,15,31)\n",
    "x=A*np.sin(omega*t)\n",
    "\n",
    "plt.xlabel('n')\n",
    "plt.ylabel('$x_d(n)$')\n",
    "plt.plot(t,x,'bo-',t,np.zeros(len(t)),'-')"
   ]
  },
  {
   "cell_type": "markdown",
   "metadata": {},
   "source": [
    "| <b>Continuous-time Sinusoids</b>|<b>Discrete-time Sinusoids</b>|\n",
    "|---|---|\n",
    "| $x_c(t)=A\\cos(\\Omega t+\\theta)=A\\cos(2\\pi F t+\\theta)$|$x_d(n)=A\\cos(wn+\\theta)=A\\cos(2\\pi fn+\\theta)$|\n",
    "| $\\Omega=2\\pi F$|$w=2\\pi f$|\n",
    "| Periodic for any $\\Omega$ or $F$|Periodic for rational $f$|\n",
    "| Fundamental period $T_p=\\dfrac{1}{F}$|Fundamental period is the smallest $N$ such that $fN=k$ where $k$ is an integer|\n",
    "| $-\\infty<F<\\infty$, $-\\infty<\\Omega<\\infty$|$-\\dfrac{1}{2}\\leq f\\leq\\dfrac{1}{2}$, $-\\pi \\leq w\\leq\\pi$|\n",
    "| When $F$ increases from 0 to $\\infty$, oscillation rate increases;|When $f$ increases from 0 to $\\dfrac{1}{2}$ oscillation rate increases;|\n",
    "| when $F$ decreases from 0 to $-\\infty$, oscillation rate decreases|when $f$ decreases from 0 to $-\\dfrac{1}{2}$, oscillation rate increases|\n",
    "| ||\n",
    "\n"
   ]
  },
  {
   "cell_type": "markdown",
   "metadata": {},
   "source": [
    "## Summary\n",
    "\n"
   ]
  },
  {
   "cell_type": "markdown",
   "metadata": {},
   "source": [
    "-   We introduce signals continuous and discrete sinusoidal signals\n",
    "    -   Properties of discrete and continuous signals are explored\n",
    "\n"
   ]
  },
  {
   "cell_type": "markdown",
   "metadata": {},
   "source": [
    "## Followup actions\n",
    "\n"
   ]
  },
  {
   "cell_type": "markdown",
   "metadata": {},
   "source": [
    "-   Run the python code and change parameters in the signal generation to obtain periodic and non periodic signals\n",
    "\n"
   ]
  }
 ],
 "metadata": {
  "kernelspec": {
   "display_name": "Python 2",
   "language": "python",
   "name": "python2"
  },
  "language_info": {
   "codemirror_mode": {
    "name": "ipython",
    "version": 2
   },
   "file_extension": ".py",
   "mimetype": "text/x-python",
   "name": "python",
   "nbconvert_exporter": "python",
   "pygments_lexer": "ipython2",
   "version": "2.7.14rc1"
  },
  "org": {
   "KEYWORDS": "Frequency concept, periodic signals"
  }
 },
 "nbformat": 4,
 "nbformat_minor": 1
}
