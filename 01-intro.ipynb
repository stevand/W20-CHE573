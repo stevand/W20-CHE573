<<<<<<< HEAD
{"cells":[{"cell_type":"markdown","metadata":{},"source":["- KEYWORDS: introduction\n"]},{"cell_type":"code","execution_count":1,"metadata":{},"outputs":[{"name":"stdout","output_type":"stream","text":"# Out[0]:"}],"source":[""]},{"cell_type":"markdown","metadata":{},"source":["## DIGITAL SIGNAL PROCESSING FOR CHEMICAL ENGINEERS\n\n"]},{"cell_type":"markdown","metadata":{},"source":["-   A ***signal*** is any physical quantity that varies with time, space (location), or any other independent variables. This is a very broad definition. There are many natural signals. For example, Figure.[fig1](#fig1) below shows a speech signal, which varies with time. An image is also a signal, which varies with space (location). In process engineering, measurements of various variables (e.g., temperatures, pressures), controller outputs are all signals that vary with time. In this course, we primarily focus on signals that vary with time - *time series signals*.\n    \n    ![img](./FiguresCHE573/speechsignal.png \"Speach signal\")\n\n-   It is important to note that process signals typically contain a few components as described by the following equation:\n\n$$y(t) = x(t) + n(t) +\\delta(t)$$\n\nwhere $y(t)$ is the measured signal, $x(t)$ denotes the true value of the signal, $n(t)$ denotes the measurement noise and $\\delta(t)$ is the bias. One objective in signal processing is to recover $x(t)$ from the noisy $y(t)$.\n\n"]},{"cell_type":"markdown","metadata":{},"source":["### Continuous-time and discrete-time signals\n\n"]},{"cell_type":"markdown","metadata":{},"source":["-   **Continuous-time (CT)** signals are also called **analog signals**. CT signals are defined for every value of time and take values in a continuous interval $(a,b)$ where $a$ could be $-\\infty$ and $b$ could be $\\infty$. CT signals are functions of the continuous-time $t$. Two examples of CT signals are as follows:\n    \n    $$ \\begin{array}{c}s_1(t)=5t,\\\\s_2(t)=20t^2\\end{array}$$\n\n-   **Discrete-time** (DT) signals are defined at specific values of time. Instead of using $t$, when describing DT signals, the index \\`$n$' or \\`$k$' in general is used to indicate the discrete-time instants.\n\n"]},{"cell_type":"markdown","metadata":{},"source":["#### Example\n\n"]},{"cell_type":"markdown","metadata":{},"source":["-   An example of a discrete-time signal is $x(n)$ defined as: \n    \n    $$x(n) = \\left\\{\\begin{array}{cc}0.8^n, & if\\; n\\geq 0 \\\\ 0, & otherwise\\end{array}\\right.$$\n    \n    The plot of $x(n)$ is shown in Figure below.\n\n"]},{"cell_type":"code","execution_count":1,"metadata":{},"outputs":[{"name":"stdout","output_type":"stream","text":"fig1\n# Out[1]:"},{"data":{"image/png":"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","text/plain":"<matplotlib.figure.Figure>"},"metadata":{},"output_type":"display_data"}],"source":["import pycse.orgmode as org\n%matplotlib inline\nimport matplotlib.pyplot as plt\nimport numpy as np\nimport math\n\n\nn=np.linspace(-4,16,20)\nx=np.zeros(len(n))\n\nfor i in range (0,len(n)):\n      if i >= 0:\n        x[i]=math.pow(0.8,i)\n      else:\n        x[i]=0\n\nplt.xlabel('n')\nplt.ylabel('x[n]')\nplt.xticks(np.arange(-4, 16, step=1))\nplt.plot(np.arange(-4, 16, 1),x,'bo')\n\norg.figure(plt.savefig('./FiguresCHE573/figure1.png'),name='fig1',\n           caption='Graphical representation of signal x(n) containing {} points'.format(len(x)),\n           attributes=[('LATEX', ':width 3in'),\n                       ('HTML', ':width 300'),\n                       ('ORG', ':width 300')])"]},{"cell_type":"markdown","metadata":{},"source":["-   The relationship between $t$ and $n$ and $T$ is as follows:\n    \n    $$ t=nT\\label{eq1}\\tag{1}$$\n    \n    where $t$ is the continuous time, $n$ is the discrete time, and $T$ is the sampling time or sampling period (i.e., the actual time interval between two consecutive time instants). Relationship in Eq.[eq1](#eq1) is very important in this course and will be discussed again.\n    \n    **Remark:** A discrete-time signal can be represented mathematically by a sequence of numbers.\n    \n    -   **Discrete-time** signals are obtained in the following two ways:\n        -   By accumulating a variable over a period of time. The signal itself is discrete-time.\n            -   Living expense per month is a DT signal;\n            -   number of cars using a given street every hour is a DT signal;\n            -   number of hours we work every week;\n            -   number of alarms a process generates every hour.\n        -   By selecting values of an analog signal at discrete-time instants. This process is called *sampling* and will be discussed later.\n    \n    -   $x(n)$ in Example can be obtained by sampling the following analog signal every 0.5 second:\n        \n        $$ x_c(t) = \\left\\{\\begin{array}{cc}0.8^{2t}, & if\\; t\\geq 0 \\\\ 0, & otherwise\\end{array}\\right.$$\n        \n        For this example, the sampling time is $T=0.5$ second. According to [eq1](#eq1), $t=nT=0.5n$. This implies that $x(n)=x_c(t)|_{t=nT=0.5n}$. For example, $x(0)=x_c(0)=1$, $x(1)=x_c(0.5)=0.8$.\n    \n    -   Discrete-time signals can be further divided into two classes of signals:\n        -   **Continuous-valued discrete-time signals**. The signals can take on all possible values in a finite or infinite range.\n            **Example:**    The precipitation every month is a continuous-valued discrete-time signal.\n        -   **Discrete-valued discrete-time signals**. The signals take on values from a finite set of possible values. *A discrete-time signal having a set of discrete values is called a digital signal.* In order for a signal to be processed digitally (by a computer), it must be a digital signal. An analog signal can be first sampled to obtain a discrete-time signal. The resulting discrete-time signal can be converted to a digital signal by quantizing its values to a set of discrete values. This process is called `quantization`. The difference between the analog signal and the digital signal is called the approximation or quantization error. In a digital computer, in general 16 or more bits are used to represent a number which provide more than 65,536 values for quantizing. For most of the engineering practice, quantization error can be neglected. In this course, we will focus on digital signals but we do not explicitly consider the quantization of the values.\n    \n    -   If the allowable signal values are $0, 0.1, 0.2, \\ldots, 0.9, 1$, $x(n)$ in  above Example can be converted to a digital signal shown in Figure [fig1](#fig1) by truncation. For example, $x(8)=0.1678$ will be approximated by the value 0.1. If rounding is used, $x(8)$ will be approximated by 0.2.\n\n"]},{"cell_type":"code","execution_count":1,"metadata":{},"outputs":[{"name":"stdout","output_type":"stream","text":"fig2\n# Out[3]:"},{"data":{"image/png":"iVBORw0KGgoAAAANSUhEUgAAAYUAAAEKCAYAAAD9xUlFAAAABHNCSVQICAgIfAhkiAAAAAlwSFlzAAALEgAACxIB0t1+/AAAFUBJREFUeJzt3X2QJHd93/H3R3fIYmVA2Hc4sk66le0zhYxdINYyGExRJew6KS6dn5KS6nAgln3/WAmOSVIil8JYrksV2LFdqVJwDqM4lhbJmPjhQkQkY2OTSiLQCiShB8s+JN3pDoEWDDjJxQihb/7ovtbesQ/Tu9s7u7fvV9XUTPf0t/u7u9Pz2Zme6V+qCkmSAM4adwOSpPXDUJAkdQwFSVLHUJAkdQwFSVLHUJAkdQwFSVLHUJAkdQwFSVJn67gb6Gvbtm01OTk57jYkaUO55557vlBV25dabsOFwuTkJDMzM+NuQ5I2lCRHRlnOt48kSR1DQZLUMRQkSR1DQZLUMRQkSZ3BQiHJTUmeSvLAAvcnyb9LcjjJ/UkuHaqX6WmYnISzzmqup6eH2pIkbWxDvlL4HWD3IvdfAexqL/uA9wzRxPQ07NsHR45AVXO9b5/BIEnzGSwUqupjwN8sssge4HercRdwXpLzV7uP/fvhxIlT55040cyXJJ1qnMcULgCemDN9rJ33DZLsSzKTZGZ2drbXRo4e7TdfkjazDXGguaoOVtVUVU1t377kt7RPcdFF/eZL0mY2zlA4Dlw4Z3pHO29VHTgAExOnzpuYaOZLkk41zlA4BPyj9lNIrwa+UlVPrvZG9u6Fgwdh505ImuuDB5v5kqRTDXZCvCS3Am8AtiU5BvwS8DyAqvot4HbgSuAwcAL4x0P1snevISBJoxgsFKrqmiXuL+Dnh9q+JKm/DXGgWZK0NgwFSVLHUJAkdQwFSVLHUJAkdQwFSVLHUJAkdQwFSVLHUJAkdQwFSVLHUJAkdQwFSVLHUJAkdQwFSVLHUJAkdQwFSVLHUJAkdQwFSVLHUJAkdQwFSVLHUJAkdQwFSVLHUJAkdQwFSVLHUJAkdQwFSVLHUJAkdQwFSVLHUJAkdQwFSVJn0FBIsjvJI0kOJ7l+nvsvSvLRJJ9Kcn+SK4fsR5K0uMFCIckW4EbgCuAS4Jokl5y22L8GPlBVrwSuBv79UP2sxPQ0TE7CWWc119PT4+5IkoaxdcB1XwYcrqpHAZLcBuwBHpqzTAEvbG+/CPjsgP0sy/Q07NsHJ04000eONNMAe/eOry9JGsKQbx9dADwxZ/pYO2+udwJvSnIMuB34JwP2syz79z8XCCedONHMl6QzzbgPNF8D/E5V7QCuBG5O8g09JdmXZCbJzOzs7Jo2ePRov/mStJENGQrHgQvnTO9o5811LfABgKr6X8A5wLbTV1RVB6tqqqqmtm/fPlC787voon7zJWkjGzIU7gZ2Jbk4ydk0B5IPnbbMUeBygCQvowmFtX0psIQDB2Bi4tR5ExPNfEk60wwWClX1DHAdcAfwMM2njB5MckOSq9rF3gb8XJL7gFuBt1RVDdXTcuzdCwcPws6dkDTXBw96kFnSmSnr7Dl4SVNTUzUzMzPuNiRpQ0lyT1VNLbXcuA80S5LWEUNBktQxFCRJHUNBktQxFCRJHUNBktQxFCRJHUNBktQxFCRJHUNBktQxFCRJHUNBktQxFCRJHUNBktQxFCRJHUNBktQxFCRJHUNBktQxFCRJHUNBktQxFCRJHUNBktQxFCRJHUNBktQxFCRJHUNBktQxFCRJHUNBktQxFCRJHUNBktQxFCRJnUFDIcnuJI8kOZzk+gWW+YdJHkryYJL3D9nPuExPw+QknHVWcz09Pe6OJGl+W4dacZItwI3ADwPHgLuTHKqqh+Ysswt4O/DaqvpSkpcM1c+4TE/Dvn1w4kQzfeRIMw2wd+/4+pKk+Qz5SuEy4HBVPVpVTwO3AXtOW+bngBur6ksAVfXUgP2Mxf79zwXCSSdONPMlab0ZMhQuAJ6YM32snTfXdwPfneR/JLkrye75VpRkX5KZJDOzs7MDtTuMo0f7zZekcRr3geatwC7gDcA1wHuTnHf6QlV1sKqmqmpq+/bta9ziylx0Ub/5kjROQ4bCceDCOdM72nlzHQMOVdXXquox4K9oQuKMceAATEycOm9iopkvSevNkKFwN7ArycVJzgauBg6dtswf0bxKIMk2mreTHh2wpzW3dy8cPAg7d0LSXB886EFmSevTYJ8+qqpnklwH3AFsAW6qqgeT3ADMVNWh9r4fSfIQ8HXgX1TVF4fqaVz27jUEJG0Mqapx99DL1NRUzczMjLsNSdpQktxTVVNLLTfuA82SpHXEUJAkdQwFSVLHUJAkdQwFSVLHUJAkdRb9nkKSnxhhHX9XVbevUj+SpDFa6str7wX+GMgiy7weMBQk6QywVCh8uKp+ZrEFktyyiv1IksZo0WMKVfWmpVYwyjKSpI1h5HMfJflBYHJuTVX97gA9SZLGZKRPHyW5Gfg14HXA97eXJc+hodXhGM+S1sqorxSmgEtqo5097wzgGM+S1tKo31N4APh7Qzai+TnGs6S1NOorhW3AQ0k+AXz15MyqumqQrtRxjGdJa2nUUHjnkE1oYRdd1LxlNN98SVptI4VCVf3F0I1ofgcOnHpMARzjWdJwFj2mkORDS61glGW0fI7xLGktLfVK4XVJDi1yf4BLVrEfzcMxniWtlaVCYU97/T3Ag6fdF6CAp1e7KUnSeCwaCiePJSS5EbgZeDdwTns9VVWvGbxDSdKaGfV7Cj8AXAj8T+Bu4LPAa4dqSpI0HqOGwteA/wc8n+aVwmNV9exgXUmSxmLUULibJhS+H/gh4Jokvz9YV5KksRj1y2vXVtVMe/tJYE+Snx6oJ0nSmIz0SmFOIMydd/PqtyNJGqdR3z6SJG0ChoIkqWMoSJI6hoIkqTNoKCTZneSRJIeTXL/Icj+ZpJI4xKckjdFgoZBkC3AjcAXNSfOuSfINJ89L8gLgrcDHh+pls3OMZ0mjGvKVwmXA4ap6tKqeBm7juRPszfUrwLuAvxuwl03r5BjPR45A1XNjPBsMkuYzZChcADwxZ/pYO6+T5FLgwqr6rwP2sak5xrOkPsZ2oDnJWcCvA28bYdl9SWaSzMzOzg7f3BnEMZ4l9TFkKBynObPqSTvaeSe9AHg58OdJHgdeDRya72BzVR2sqqmqmtq+ffuALZ95FhrL2TGeJc1nyFC4G9iV5OIkZwNXA90oblX1laraVlWTVTUJ3AVcNd8pNbR8Bw40YzrP5RjPkhYyWChU1TPAdcAdwMPAB6rqwSQ3JLlqqO3qVI7xLKmPVNW4e+hlamqqZmZ8MSFJfSS5p6qW/C6Y32iWJHUMBUlSx1CQJHUMBUlSx1CQJHUMBUlSx1CQJHUMBUlSx1CQJHUMBUlSx1CQJHUMBUlSx1DQklY6xrNjREsbx9ZxN6D17eQYzyeH9Dw5xjOMdvrtldZLWlueOluLmpxsnshPt3MnPP748PWSVoenztaqWOkYz44RLW0shoIWtdIxnh0jWtpYDAUtaqVjPDtGtLSxGApa1ErHeHaMaGlj8UCzJG0CHmiWJPVmKEiSOoaCJKljKEiSOoaCJKljKEiSOoaCJKljKEiSOoaCJKljKEiSOoaCJKkzaCgk2Z3kkSSHk1w/z/2/mOShJPcn+dMkO4fsRxuTw4FKa2ewUEiyBbgRuAK4BLgmySWnLfYpYKqqvg/4IPDuofrRxnRyOM8jR6DqueE8R31iX2m9tNkM+UrhMuBwVT1aVU8DtwF75i5QVR+tqnb0Xu4CdgzYjzag/fufG9/5pBMnmvlrUS9tNkOGwgXAE3Omj7XzFnIt8OH57kiyL8lMkpnZ2dlVbFHrncOBSmtrXRxoTvImYAr41fnur6qDVTVVVVPbt29f2+Y0Vg4HKq2tIUPhOHDhnOkd7bxTJHkjsB+4qqq+OmA/2oAcDlRaW0OGwt3AriQXJzkbuBo4NHeBJK8E/gNNIDw1YC/aoBwOVFpbgw7HmeRK4DeBLcBNVXUgyQ3ATFUdSvIR4HuBJ9uSo1V11WLrdDhOSepv1OE4tw7ZRFXdDtx+2rx3zLn9xiG3L0nqZ10caJYkrQ+GgiSpYyhIkjqGgiSpYyhIkjqGgiSpYyhIkjqGgiSpYyhIkjqGgiSpYyhIkjqGgrSE9TBG9Lh7cJzrTaSqNtTlVa96VUlr5ZZbqiYmqpoRnpvLxEQzfy3q10MPq/EzaPxozk695HPsoKfOHoKnztZampyEI0e+cf7OnfD448PXr4ceVuNn0PiNeupsQ0FaxFlnNf8bny6BZ58dvn499LAaP4PGb9RQ8JiCtIj1MEb0uHtwnOvNxVCQFrEexogedw+Oc73JjHLgYT1dPNCstXbLLVU7d1YlzXXfA6wrrV8PPazGz6DxwgPNkqSTPKYgSerNUJAkdQwFSVLHUJAkdQwFSVLHUJAkdQwFSVLHUJAkdQwFSVLHUJAkdQwFSVJn0FBIsjvJI0kOJ7l+nvu/Kcnvtfd/PMnkkP1IkhY3WCgk2QLcCFwBXAJck+SS0xa7FvhSVX0X8BvAu4bqR9L4jHuM6M1e38sop1JdzgV4DXDHnOm3A28/bZk7gNe0t7cCX6AdDW6hi6fOljaWcY8RvdnrT2Lcp85O8lPA7qr62Xb6p4EfqKrr5izzQLvMsXb6M+0yX1hovZ46W9pYxj1G9GavP+mMOnV2kn1JZpLMzM7OjrsdST0cPdpvvvWrW9/XkKFwHLhwzvSOdt68yyTZCrwI+OLpK6qqg1U1VVVT27dvH6hdSUMY9xjRm72+ryFD4W5gV5KLk5wNXA0cOm2ZQ8Cb29s/BfxZDfV+lqSxGPcY0Zu9vrdRDjws9wJcCfwV8BlgfzvvBuCq9vY5wO8Dh4FPAN+x1Do90CxtPOMeI3qz11etgwPNQ/FAsyT1d0YdaJYkrQ1DQZLUMRQkSR1DQZLUMRQkSZ0N9+mjJLPAPF/6Hsk2mvMrLZf11o+zfj30YP3Grd9ZVUt/+3eUz62eKRdG/Jyu9davx/r10IP1G7t+lItvH0mSOoaCJKmz2ULhoPXWb+D69dCD9Ru7fkkb7kCzJGk4m+2VgiRpEZs2FJK8LUkl2daz7leS3J/k3iR3Jvn2nvW/muQv23X8YZLzetb/gyQPJnk2yZInt5pTtzvJI0kOJ7m+5zZvSvJUO1Jeb0kuTPLRJA+1vb+1Z/05ST6R5L62/peX2ceWJJ9K8qFl1D6e5NPt3733GRmTnJfkg+3f/uEkr+lR+9J2uycvf5vkF3pu/5+1v7sHktya5Jye9W9tax8cZdvzPWaSfEuSP0ny1+31i3vWj/zYX6B+5H1vgfqR9/3F9plRnnsW2P47kxyf8zi4crHfwbIN/fGm9XihGdjnDprvO2zrWfvCObf/KfBbPet/BNja3n4X8K6e9S8DXgr8OTA1Ys0WmtOXfwdwNnAfcEmPbb4euBR4YJm/7/OBS9vbL6A5nXqf7Qf45vb284CPA69eRh+/CLwf+NAyah/v+1g5rf4/AT/b3j4bOG+Z69kCfI7mM+ej1lwAPAY8v53+APCWHvUvBx4AJmjGUv8I8F19HzPAu4Hr29vXL/bYX6B+5Mf+AvUj73sL1I+87y+0z4z63LPA9t8J/PPlPgZHvWzWVwq/AfxLoPcBlar62zmT5/ZdR1XdWVXPtJN30YxI16f+4ap6pE8NcBlwuKoeraqngduAPT22+THgb3puc279k1X1yfb2/wYepnmiGrW+qur/tJPPay+9fu9JdgB/H/jtPnWrIcmLaHby9wFU1dNV9eVlru5y4DNV1fcLnFuB57cjHE4An+1R+zLg41V1on3s/gXwE4sVLPCY2UMTjrTXP9anvs9jf4H6kfe9BepH3vcX2WdGeu5Z6T63EpsuFJLsAY5X1X0rWMeBJE8Ae4F3rKCdnwE+vIL6UV0APDFn+hg9npRXU5JJ4JU0/+33qduS5F7gKeBPqqpXPfCbNDvjsz3rTirgziT3JNnXs/ZiYBb4j+3bV7+d5Nxl9nE1cGufgqo6DvwacBR4EvhKVd3ZYxUPAD+U5FuTTNAMnnXhEjXz+baqerK9/Tng25axjtWyrH1vJfv+ajz3ANe1b2HdtNjbbytxRoZCko+073+eftkD/CuW+GMuUU9V7a+qC4Fp4Lq+9e0y+4Fn2nX0rt+Iknwz8J+BXzjtv64lVdXXq+oVNP/dXZbk5T22+6PAU1V1T6+GT/W6qroUuAL4+SSv71G7leatgPdU1SuB/0vz9kkvaYa1vYpmtMI+dS+m+S/9YuDbgXOTvGnU+qp6mObtljuB/wbcC3y9Tw/zrLNYxiv11bDYvreUpfb9RbY5wQjPPUt4D/CdwCtowv3frmBdC9o6xErHrareON/8JN9Ls2PclwSaJ5hPJrmsqj63VP08poHbgV8aZftz+ngL8KPA5e3OMVL/K3CcU/+z29HOWzNJnkcTCNNV9QfLXU9VfTnJR4HdNP/BjuK1wFXtgblzgBcmuaWq+jwxHm+vn0ryhzRvyX1sxPJjwLE5r24+yDJCgSaQPllVn+9Z90bgsaqaBUjyB8APAreMuoKqeh/t219J/g3Nz9TX55OcX1VPJjmf5lXfmlpq3+th3n1/Ed/JCM89i5n7d0/yXqD3ByZGcUa+UlhIVX26ql5SVZNVNUnzwL501D8KQJJdcyb3AH/Zp4cku2nexriqqk70qV2Bu4FdSS5u/9u8Gji0RtsmzV7wPuDhqvr1ZdRvP/lJkSTPB36YHr/3qnp7Ve1o/+ZXA3/WJxCSnJvkBSdv0xywHPmTWO3j64kkL21nXQ48NGr9HNfQ862j1lHg1Ukm2r/F5TTHdUaW5CXt9UU0xxPev4w+DgFvbm+/GfjjZaxj2Va6761k31+l557z50z+OD0eg70MfSR7PV9YxidKaP7bfQC4H/gvwAU96w/TvL9/b3vp++mlH6d5QH0V+Dxwx4h1V9J86uczwP6e27yV5uXq19ptX9uz/nU0bxXcP+fnvrJH/fcBn2rrHwDesYK/+Rvo+ekjmk9t3ddeHuz7+2vX8Qpgpv0Z/gh4cc/6c4EvAi9a5s/9yzRPYg8ANwPf1LP+v9ME2X00/2X3fswA3wr8KfDXNJ9g+pae9SM/9heoH3nfW6B+5H1/qX1mqeeeBbZ/M/DpdvuHgPOXux8sdvEbzZKkzqZ6+0iStDhDQZLUMRQkSR1DQZLUMRQkSR1DQZLUMRQkSR1DQVqhJJNpxkh4b5rz/d/ZfvNa2nAMBWl17AJurKrvAb4M/OSY+5GWxVCQVsdjVXVve/seYHKMvUjLZihIq+Orc25/nTP0DMQ68xkKkqSOoSBJ6niWVElSx1cKkqSOoSBJ6hgKkqSOoSBJ6hgKkqSOoSBJ6hgKkqSOoSBJ6vx/8/dRSHKMGjsAAAAASUVORK5CYII=","text/plain":"<matplotlib.figure.Figure>"},"metadata":{},"output_type":"display_data"}],"source":["import pycse.orgmode as org\n%matplotlib inline\nimport matplotlib.pyplot as plt\nimport numpy as np\nimport math\n\n\nn=np.linspace(-4,16,20)\nx=np.zeros(len(n))\n\nfor i in range (0,len(n)):\n      if i >= 0:\n        x[i]=round(math.pow(0.8,i),1)\n      else:\n        x[i]=0\n\nplt.xlabel('n')\nplt.ylabel('x[n]')\nplt.xticks(np.arange(-4, 16, step=1))\nplt.plot(np.arange(-4, 16, 1),x,'bo')\n\norg.figure(plt.savefig('./FiguresCHE573/figure2.png'),name='fig2',\n           caption='Graphical representation of digital signal x(n) containing {} points'.format(len(x)),\n           attributes=[('LATEX', ':width 3in'),\n                       ('HTML', ':width 300'),\n                       ('ORG', ':width 300')])"]},{"cell_type":"markdown","metadata":{},"source":["-   The above classification can be summarized as follows:\n    \n    $$Signals\\left\\{\\begin{array}{l}Continuous-time\\; signals\\;(analog\\; signals)\\\\    Discrete-time\\; signals\\left\\{\\begin{array}{l}Continuous-valued \\;discrete-time\\; signals\\\\ Discrete-valued\\; discrete-time\\;signals\\; (digital\\;signals)\\end{array}\\right.\\end{array}\\right.$$\n\n"]},{"cell_type":"markdown","metadata":{},"source":["#### Random and deterministic signals\n\n"]},{"cell_type":"markdown","metadata":{},"source":["-   The mathematical analysis and processing of signals requires the availability of mathematical description for the signal itself. This mathematical description, often referred to as the *signal model*, leads to another important classification of signals.\n    -   Any signals that can be uniquely described by an explicit mathematical expression, a table of data, or a well-defined rule is called *deterministic*. This term is used to emphasize the fact that all the past, present, and future values of the signal are known precisely, without any uncertainty.\n    \n    -   Example: Signals $s_1$, $s_2$, $s_3$, $x$, $x_c$ mentioned earlier in this section are deterministic signals.\n    \n    -   In many practical applications, however, there are signals that evolve in time in an unpredictable manner. We refer to these signals as *random*. The best approach is to analyze these *random* signals using statistical techniques.\n    \n    -   Example: Among the example signals mentioned earlier, the following could be random signals:\n        -   living expense per month;\n        -   number of cars using a given street every hour;\n        -   the precipitation every month.\n    \n    -   Example: Many signals in process control have characteristics of random signals. For example, wind velocity at electric turbines, wind direction for flare dispersion, $\\cdots$.\n    \n    -   The signal in Figure is actually a discrete-time signal. Because there are too many samples (1000 in this case) with small sampling time (0.001 in this case), it is not effective to show the values in terms of sample numbers like in Figure [fig1](#fig1) or Figure [fig2](#fig2). It is more practical to treat the signal as a \\`continuous-time' signal and to graphically represent its evolution with time.\n\n"]},{"cell_type":"code","execution_count":1,"metadata":{},"outputs":[{"name":"stdout","output_type":"stream","text":"fig3\n# Out[4]:"},{"data":{"image/png":"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","text/plain":"<matplotlib.figure.Figure>"},"metadata":{},"output_type":"display_data"}],"source":["import pycse.orgmode as org\n%matplotlib inline\nimport matplotlib.pyplot as plt\nimport numpy as np\nimport math\n\nn=np.linspace(0,1,1000)\nx=np.zeros(len(n))\n\nfor i in range (0,len(n)-1):\n    x[i]=np.random.randn()\n\nplt.xlabel('n')\nplt.ylabel('x[n]')\nplt.xticks(np.arange(0, 1, step=0.1))\nplt.plot(n,x,'b-')\n\norg.figure(plt.savefig('./FiguresCHE573/figure3.png'),name='fig3',\n           caption='Graphical representation of digital signal x(n) containing {} points'.format(len(x)),\n           attributes=[('LATEX', ':width 3in'),\n                       ('HTML', ':width 300'),\n                       ('ORG', ':width 300')])"]},{"cell_type":"markdown","metadata":{},"source":["-   In this course, we will focus on *stationary* random signals. In mathematics, a stationary signal is a signal whose joint probability distribution does not change when shifted in time. In a less strict sense, we can treat signals whose characteristics (e.g., *mean, variance*) do not change over time as stationary.\n    -   Keep in mind that *analyzing signals* is a very important component of this course. Other important components include *analyzing systems* and *design filters*. Regarding signals, in process control and engineering applications, random signals are very common.  *The analysis of random signals will be one of the few points of interest in this course*. A strategy used in this course is that we will introduce the fundamental theories (like *sampling theorem, aliasing, Fourier series, Fourier transform*) based on deterministic signals due to their simplicity. When discussing applications of the theories, we will focus on random signals (including *autocorrelation function, filtering*).\n\n"]},{"cell_type":"markdown","metadata":{},"source":["## Energy and power signals\n\n"]},{"cell_type":"markdown","metadata":{},"source":["-   When we discuss Fourier transform in the second half of this course, we will introduce power spectrum and energy spectrum of signals. In order to better understand these concepts, we introduce the classification of energy and power signals. First, we introduce the definitions of energy and power of a signal.\n    \n    -   The **energy** of a signal $x(n)$ is defined as:\n    \n    $$E \\equiv \\sum\\limits_{n=-\\infty}^{\\infty} |x(n)|^2$$\n    \n    which is the summation of the squares of the magnitude of a signal at different instants. If we define the expression\n    \n    $$E_N= \\sum\\limits_{n=-N}^{N} |x(n)|^2$$\n    \n    then signal energy is \n    \n    $$E= \\lim\\limits_{N\\rightarrow \\infty} E_N$$\n\n-   The energy of a signal could be finite or infinite. In general, the energy of a signal with finite non-zero values is finite and the energy of a signal with infinite non-zero values is infinite. Many signals posses infinite energy but have a finite average power.\n\n-   The average  **power** of a signal $x(n)$ is defined as:\n\n$$P\\equiv \\lim_{N\\rightarrow\\infty}\\dfrac{1}{2N+1}\\sum\\limits_{n=-N}^N |x(n)|^2$$\n\nwhich is the average of the energy of the signal over the entire time range. In general, the power of a signal is finite. When the energy of a signal is finite, its power is 0.\n\n-   When the energy of a signal is finite, the signal is called an *energy signal*. The power of an energy signal is 0.\n\n-   If the power of a signal $P\\neq 0$ but finite, then the signal is called a *power signal*. The energy of a power signal is infinite.\n\n"]},{"cell_type":"markdown","metadata":{},"source":["## Some Elementary DT Signals and representation\n\n"]},{"cell_type":"markdown","metadata":{},"source":["-   In signal processing, there are a number of basic signals. These signals play an important role in the analysis of DT signals. These signals include {\\em unit sample signal, unit step signal, sinusoidal signals, exponential signals} etc. One may notice that these signals are also widely used in process control.\n\n"]},{"cell_type":"markdown","metadata":{},"source":["### The unit sample signal\n\n"]},{"cell_type":"markdown","metadata":{},"source":["-   The *unit sample signal* (or called *unit impulse signal*) has a nonzero value (1) when $n$ is zero and has zero value at all the other instants. In this course, we will use $\\delta(n)$ to denote the unit sample signal. It is defined mathematically as follows:\n    \n    $$\\delta(n)=\\left\\{\\begin{array}{cc}1, & if\\; n=0 \\\\ 0, & if\\; n\\neq 0\\end{array}\\right.$$\n    \n    **Remark:** Recall that in the process control course, in the continuous-time domain, *unit impulse* is defined as a signal such that:\n    \n    $$\\int_{t=0^-}^{t=0^+} \\delta(t) dt = 1$$\n\n"]},{"cell_type":"markdown","metadata":{},"source":["### The unit step signal\n\n"]},{"cell_type":"markdown","metadata":{},"source":["-   The *unit step signal* has a value one when $n$ is equal to or greater than zero and has zero value at all the other instants. In this course, we will use $u(n)$ to denote the unit step signal. It is defined mathematically as follows:\n    \n    $$u(n)=\\left\\{\\begin{array}{cc}1, & if\\; n\\geq0 \\\\ 0, & if\\; n<0\\end{array}\\right.$$\n    \n    **Remark:** Recall that in the process control course, in the continuous-time domain, *unit step* is defined similarly but for time $t$:\n    \n    $$u(t)=\\left\\{\\begin{array}{cc}1, & if\\; t\\geq0 \\\\ 0, & if\\; t<0\\end{array}\\right.$$\n\n"]},{"cell_type":"markdown","metadata":{},"source":["### The unit ramp signal\n\n"]},{"cell_type":"markdown","metadata":{},"source":["-   The *unit ramp signal* is defined mathematically as follows:\n    \n    $$u_r(n)=\\left\\{\\begin{array}{cc}n, & if\\; n\\geq0 \\\\ 0, & if\\; n<0\\end{array}\\right.$$\n\n"]},{"cell_type":"markdown","metadata":{},"source":["### The exponential signal\n\n"]},{"cell_type":"markdown","metadata":{},"source":["-   The *exponential signal* is defined mathematically as follows:\n    \n    $$u_r(n)=a^n,\\;\\;\\;\\forall n$$\n    \n    -   The representation of signals can be:\n        -   Functional representation\n        -   Tabular representation\n        -   Sequence representation\n    \n    -   Signals can be symmetric (even) and antisymmetric (odd) signals. A signal is symmetric if $x(-n)=x(n)$ and antisymmetric if $x(-n)=-x(n)$. A signal $x(n)$ may be shifted in time by replacing the independent variable $n$ by $n-k$, where $k$ is an integer. If $k$ is a positive integer, the time shift results in a delay of the signal by $k$ units of time. If $k$ is a negative integer, the time shift results in advance of the signal by $k$ units in time.\n    \n    -   In the discrete signals, operations are associated with the index of the sequence, for given $n$ one can have:\n    \n    $$\\begin{array}{ccc}x(n+1)&=&\\left\\{x(1),x(2),x(3),\\cdots,x(n+1),\\cdots\\right\\}\\\\x(n)&=&\\left\\{x(0),x(1),x(2),\\cdots,x(n),\\cdots\\right\\}\\\\x(n-1)&=&\\left\\{x(-1),x(0),x(1),\\cdots,x(n-1),\\cdots\\right\\}\\end{array}$$\n    \n    **Remark:** The algebraic operations of summation, multiplication and subtraction are defined among signals which the same sampling instance $n$, (for example, that is $x_1(n)+x_2(n)\\mapsto x_3(n)$). When it comes to defining and relating the discrete signals of different time instances, we need to introduce time shift operators, forward shift and backward shift operators, which can be presented as operators operating on the index of the signal.\n\n![img](./FiguresCHE573/ditaa-backshift.png)\n\n"]},{"cell_type":"markdown","metadata":{},"source":["### Properties of unit sample and step signals\n\n"]},{"cell_type":"markdown","metadata":{},"source":["-   The unit sample and unit step signals are very important elementary signals. They have the following properties. %Note that in the following description, $\\{x(n)\\}$ denotes the sequence of values of $x(n)$ for all possible $n$.\n    \n    -   $\\delta(n)=u(n)-u(n-1)$\n    -   $u(n)=\\sum\\limits_{m=0}^n\\delta(m)$\n    -   Multiplying any signal by a unit sample selects or \\`sift' out the value of the signal at the instant of the impulse (sampling) such that:\n        \n        $$ \\begin{array}{c}\\{x(n)\\}\\cdot \\delta(n) = x(0)\\\\\\{x(n)\\}\\cdot \\delta(n-k) = x(k)\\end{array}$$\n    \n    -   Any sequence $x(n)$ can be expressed as the linear combination of shifted impulses such that:\n        \n        $$x(n) = \\sum\\limits_{k=-\\infty}^{\\infty}x(k)\\delta(n-k)$$\n    \n    -   The energy of the unit sample signal is 1 and the power of the unit sample signal is 0\n    \n    $$\\begin{array}{l}E_{\\delta}=\\sum\\limits_{n=-\\infty}^{\\infty} |\\delta(n)|^2=\\ldots + 0 + 1 + 0 + \\ldots = 1\\\\P_{\\delta}=\\displaystyle\\lim_{N\\rightarrow\\infty}\\dfrac{1}{2N+1}\\cdot 1 = 0\\end{array}$$\n    \n    -   The energy of the unit step signal is $\\infty$ and the power of the unit step signal is $\\dfrac{1}{2}$\n    \n    $$\\begin{array}{l}E_{u}=\\sum\\limits_{n=-\\infty}^{\\infty} |u(n)|^2=\\ldots + 0 + 1 + 1 + \\ldots = \\infty\\\\P_{u}=\\displaystyle\\lim_{N\\rightarrow\\infty}\\dfrac{1}{2N+1}\\sum\\limits_{n=-N}^N|u(n)|^2 = \\lim_{N\\rightarrow\\infty}\\dfrac{N+1}{2N+1}=\\dfrac{1}{2}\\end{array}$$\n\n"]},{"cell_type":"markdown","metadata":{},"source":["## Summary\n\n"]},{"cell_type":"markdown","metadata":{},"source":["-   We introduce signals (continuous and discrete), signal energy and power, sampling and some basic signal functions\n\n"]},{"cell_type":"markdown","metadata":{},"source":["## Followup actions\n\n"]},{"cell_type":"markdown","metadata":{},"source":["-   Run the python code and change parameters in the sampling of continuous to digital signal\n\n"]}],"metadata":{"org":{"KEYWORDS":"introduction"},"kernelspec":{"display_name":"Python 3","language":"python","name":"python3"},"language_info":{"codemirror_mode":{"name":"ipython","version":3},"file_extension":".py","mimetype":"text/x-python","name":"python","nbconvert_exporter":"python","pygments_lexer":"ipython3","version":"3.5.2"}},"nbformat":4,"nbformat_minor":0}
=======
{
 "cells": [
  {
   "cell_type": "markdown",
   "metadata": {},
   "source": [
    "- KEYWORDS: introduction\n"
   ]
  },
  {
   "cell_type": "code",
   "execution_count": null,
   "metadata": {},
   "outputs": [],
   "source": []
  },
  {
   "cell_type": "markdown",
   "metadata": {},
   "source": [
    "## DIGITAL SIGNAL PROCESSING FOR CHEMICAL ENGINEERS\n",
    "\n"
   ]
  },
  {
   "cell_type": "markdown",
   "metadata": {},
   "source": [
    "-   A ***signal*** is any physical quantity that varies with time, space (location), or any other independent variables. This is a very broad definition. There are many natural signals. For example, Figure.ref:fig1 below shows a speech signal, which varies with time. An image is also a signal, which varies with space (location). In process engineering, measurements of various variables (e.g., temperatures, pressures), controller outputs are all signals that vary with time. In this course, we primarily focus on signals that vary with time - *time series signals*.\n",
    "    \n",
    "    ![img](./FiguresCHE573/speechsignal.png \"Speach signal\")\n",
    "\n",
    "-   It is important to note that process signals typically contain a few components as described by the following equation:\n",
    "\n",
    "$$y(t) = x(t) + n(t) +\\delta(t)$$\n",
    "\n",
    "where $y(t)$ is the measured signal, $x(t)$ denotes the true value of the signal, $n(t)$ denotes the measurement noise and $\\delta(t)$ is the bias. One objective in signal processing is to recover $x(t)$ from the noisy $y(t)$.\n",
    "\n"
   ]
  },
  {
   "cell_type": "markdown",
   "metadata": {},
   "source": [
    "### Continuous-time and discrete-time signals\n",
    "\n"
   ]
  },
  {
   "cell_type": "markdown",
   "metadata": {},
   "source": [
    "-   **Continuous-time (CT)** signals are also called **analog signals**. CT signals are defined for every value of time and take values in a continuous interval $(a,b)$ where $a$ could be $-\\infty$ and $b$ could be $\\infty$. CT signals are functions of the continuous-time $t$. Two examples of CT signals are as follows:\n",
    "    \n",
    "    $$ \\begin{array}{c}s_1(t)=5t,\\\\s_2(t)=20t^2\\end{array}$$\n",
    "\n",
    "-   **Discrete-time** (DT) signals are defined at specific values of time. Instead of using $t$, when describing DT signals, the index \\`$n$' or \\`$k$' in general is used to indicate the discrete-time instants.\n",
    "\n"
   ]
  },
  {
   "cell_type": "markdown",
   "metadata": {},
   "source": [
    "#### Example\n",
    "\n"
   ]
  },
  {
   "cell_type": "markdown",
   "metadata": {},
   "source": [
    "-   An example of a discrete-time signal is $x(n)$ defined as: \n",
    "    \n",
    "    $$x(n) = \\left\\{\\begin{array}{cc}0.8^n, & if\\; n\\geq 0 \\\\ 0, & otherwise\\end{array}\\right.$$\n",
    "    \n",
    "    The plot of $x(n)$ is shown in Figure below.\n",
    "\n"
   ]
  },
  {
   "cell_type": "code",
   "execution_count": 1,
   "metadata": {},
   "outputs": [
    {
     "data": {
      "text/plain": [
       "[<matplotlib.lines.Line2D at 0x157e3f90>]"
      ]
     },
     "execution_count": 1,
     "metadata": {},
     "output_type": "execute_result"
    },
    {
     "data": {
      "image/png": "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\n",
      "text/plain": [
       "<Figure size 432x288 with 1 Axes>"
      ]
     },
     "metadata": {
      "needs_background": "light"
     },
     "output_type": "display_data"
    }
   ],
   "source": [
    "%matplotlib inline\n",
    "import matplotlib.pyplot as plt\n",
    "import numpy as np\n",
    "import math\n",
    "\n",
    "\n",
    "n=np.linspace(-4,16,20)\n",
    "x=np.zeros(len(n))\n",
    "\n",
    "for i in range (0,len(n)):\n",
    "      if i >= 0:\n",
    "        x[i]=math.pow(0.9,i)\n",
    "      else:\n",
    "        x[i]=0\n",
    "\n",
    "plt.xlabel('n')\n",
    "plt.ylabel('x[n]')\n",
    "plt.xticks(np.arange(-4, 16, step=1))\n",
    "plt.plot(np.arange(-4, 16, 1),x,'bo')\n",
    "\n"
   ]
  },
  {
   "cell_type": "markdown",
   "metadata": {},
   "source": [
    "-   The relationship between $t$ and $n$ and $T$ is as follows:\n",
    "    \n",
    "    $$ t=nT\\label{eq1}\\tag{1}$$\n",
    "    \n",
    "    where $t$ is the continuous time, $n$ is the discrete time, and $T$ is the sampling time or sampling period (i.e., the actual time interval between two consecutive time instants). Relationship in Eq.ref:eq1 is very important in this course and will be discussed again.\n",
    "    \n",
    "    **Remark:** A discrete-time signal can be represented mathematically by a sequence of numbers.\n",
    "    \n",
    "    -   **Discrete-time** signals are obtained in the following two ways:\n",
    "        -   By accumulating a variable over a period of time. The signal itself is discrete-time.\n",
    "            -   Living expense per month is a DT signal;\n",
    "            -   number of cars using a given street every hour is a DT signal;\n",
    "            -   number of hours we work every week;\n",
    "            -   number of alarms a process generates every hour.\n",
    "        -   By selecting values of an analog signal at discrete-time instants. This process is called *sampling* and will be discussed later.\n",
    "    \n",
    "    -   $x(n)$ in Example can be obtained by sampling the following analog signal every 0.5 second:\n",
    "        \n",
    "        $$ x_c(t) = \\left\\{\\begin{array}{cc}0.8^{2t}, & if\\; t\\geq 0 \\\\ 0, & otherwise\\end{array}\\right.$$\n",
    "        \n",
    "        For this example, the sampling time is $T=0.5$ second. According to  ref:eq1, $t=nT=0.5n$. This implies that $x(n)=x_c(t)|_{t=nT=0.5n}$. For example, $x(0)=x_c(0)=1$, $x(1)=x_c(0.5)=0.8$.\n",
    "    \n",
    "    -   Discrete-time signals can be further divided into two classes of signals:\n",
    "        -   **Continuous-valued discrete-time signals**. The signals can take on all possible values in a finite or infinite range.\n",
    "            **Example:**    The precipitation every month is a continuous-valued discrete-time signal.\n",
    "        -   **Discrete-valued discrete-time signals**. The signals take on values from a finite set of possible values. *A discrete-time signal having a set of discrete values is called a digital signal.* In order for a signal to be processed digitally (by a computer), it must be a digital signal. An analog signal can be first sampled to obtain a discrete-time signal. The resulting discrete-time signal can be converted to a digital signal by quantizing its values to a set of discrete values. This process is called `quantization`. The difference between the analog signal and the digital signal is called the approximation or quantization error. In a digital computer, in general 16 or more bits are used to represent a number which provide more than 65,536 values for quantizing. For most of the engineering practice, quantization error can be neglected. In this course, we will focus on digital signals but we do not explicitly consider the quantization of the values.\n",
    "    \n",
    "    -   If the allowable signal values are $0, 0.1, 0.2, \\ldots, 0.9, 1$, $x(n)$ in the above Example, the signal is converted to the digital signal shown in Figure ref:fig1 by truncation. For example, $x(8)=0.1678$ will be approximated by the value 0.1. If rounding is used, $x(8)$ will be approximated by 0.2.\n",
    "\n"
   ]
  },
  {
   "cell_type": "code",
   "execution_count": 2,
   "metadata": {},
   "outputs": [
    {
     "data": {
      "text/plain": [
       "[<matplotlib.lines.Line2D at 0x1587f5f0>]"
      ]
     },
     "execution_count": 2,
     "metadata": {},
     "output_type": "execute_result"
    },
    {
     "data": {
      "image/png": "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\n",
      "text/plain": [
       "<Figure size 432x288 with 1 Axes>"
      ]
     },
     "metadata": {
      "needs_background": "light"
     },
     "output_type": "display_data"
    }
   ],
   "source": [
    "%matplotlib inline\n",
    "import matplotlib.pyplot as plt\n",
    "import numpy as np\n",
    "import math\n",
    "\n",
    "\n",
    "n=np.linspace(-4,16,20)\n",
    "x=np.zeros(len(n))\n",
    "\n",
    "for i in range (0,len(n)-1):\n",
    "      if i >= 0:\n",
    "        x[i]=round(math.pow(0.8,i),1)\n",
    "      else:\n",
    "        x[i]=0\n",
    "\n",
    "plt.xlabel('n')\n",
    "plt.ylabel('x[n]')\n",
    "plt.xticks(np.arange(-4, 16, step=1))\n",
    "plt.plot(np.arange(-4, 16, 1),x,'bo')\n"
   ]
  },
  {
   "cell_type": "markdown",
   "metadata": {},
   "source": [
    "-   The above classification can be summarized as follows:\n",
    "    \n",
    "    $$Signals\\left\\{\\begin{array}{l}Continuous-time\\; signals\\;(analog\\; signals)\\\\    Discrete-time\\; signals\\left\\{\\begin{array}{l}Continuous-valued \\;discrete-time\\; signals\\\\ Discrete-valued\\; discrete-time\\;signals\\; (digital\\;signals)\\end{array}\\right.\\end{array}\\right.$$\n",
    "\n"
   ]
  },
  {
   "cell_type": "markdown",
   "metadata": {},
   "source": [
    "#### Random and deterministic signals\n",
    "\n"
   ]
  },
  {
   "cell_type": "markdown",
   "metadata": {},
   "source": [
    "-   The mathematical analysis and processing of signals requires the availability of mathematical description for the signal itself. This mathematical description, often referred to as the *signal model*, leads to another important classification of signals.\n",
    "    -   Any signals that can be uniquely described by an explicit mathematical expression, a table of data, or a well-defined rule is called *deterministic*. This term is used to emphasize the fact that all the past, present, and future values of the signal are known precisely, without any uncertainty.\n",
    "    \n",
    "    -   Example: Signals $s_1$, $s_2$, $s_3$, $x$, $x_c$ mentioned earlier in this section are deterministic signals.\n",
    "    \n",
    "    -   In many practical applications, however, there are signals that evolve in time in an unpredictable manner. We refer to these signals as *random*. The best approach is to analyze these *random* signals using statistical techniques.\n",
    "    \n",
    "    -   Example: Among the example signals mentioned earlier, the following could be random signals:\n",
    "        -   living expense per month;\n",
    "        -   number of cars using a given street every hour;\n",
    "        -   the precipitation every month.\n",
    "    \n",
    "    -   Example: Many signals in process control have characteristics of random signals. For example, wind velocity at electric turbines, wind direction for flare dispersion, $\\cdots$.\n",
    "    \n",
    "    -   The signal in Figure is actually a discrete-time signal. Because there are too many samples (1000 in this case) with small sampling time (0.001 in this case), it is not effective to show the values in terms of sample numbers like in Figure ref:fig1 or Figure ref:fig2. It is more practical to treat the signal as a \\`continuous-time' signal and to graphically represent its evolution with time.\n",
    "\n"
   ]
  },
  {
   "cell_type": "code",
   "execution_count": 3,
   "metadata": {},
   "outputs": [
    {
     "data": {
      "text/plain": [
       "[<matplotlib.lines.Line2D at 0x158cc1d0>]"
      ]
     },
     "execution_count": 3,
     "metadata": {},
     "output_type": "execute_result"
    },
    {
     "data": {
      "image/png": "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\n",
      "text/plain": [
       "<Figure size 432x288 with 1 Axes>"
      ]
     },
     "metadata": {
      "needs_background": "light"
     },
     "output_type": "display_data"
    }
   ],
   "source": [
    "%matplotlib inline\n",
    "import matplotlib.pyplot as plt\n",
    "import numpy as np\n",
    "import math\n",
    "\n",
    "n=np.linspace(0,1,1000)\n",
    "x=np.zeros(len(n))\n",
    "\n",
    "for i in range (0,len(n)-1):\n",
    "    x[i]=np.random.randn()\n",
    "\n",
    "plt.xlabel('n')\n",
    "plt.ylabel('x[n]')\n",
    "plt.xticks(np.arange(0, 1, step=0.1))\n",
    "plt.plot(n,x,'b-')\n"
   ]
  },
  {
   "cell_type": "markdown",
   "metadata": {},
   "source": [
    "-   In this course, we will focus on *stationary* random signals. In mathematics, a stationary signal is a signal whose joint probability distribution does not change when shifted in time. In a less strict sense, we can treat signals whose characteristics (e.g., *mean, variance*) do not change over time as stationary.\n",
    "\n",
    "-   Keep in mind that *analyzing signals* is a very important component of this course. Other important components include *analyzing systems* and *design filters*. Regarding signals, in process control and engineering applications, random signals are very common.  *The analysis of random signals will be one of the few points of interest in this course*. A strategy used in this course is that we will introduce the fundamental theories (like *sampling theorem, aliasing, Fourier series, Fourier transform*) based on deterministic signals due to their simplicity. When discussing applications of the theories, we will focus on random signals (including *autocorrelation function, filtering*).\n",
    "\n"
   ]
  },
  {
   "cell_type": "markdown",
   "metadata": {},
   "source": [
    "## Energy and power signals\n",
    "\n"
   ]
  },
  {
   "cell_type": "markdown",
   "metadata": {},
   "source": [
    "-   When we discuss Fourier transform in the second half of this course, we will introduce power spectrum and energy spectrum of signals. In order to better understand these concepts, we introduce the classification of energy and power signals. First, we introduce the definitions of energy and power of a signal.\n",
    "    \n",
    "    -   The **energy** of a signal $x(n)$ is defined as:\n",
    "    \n",
    "    $$E \\equiv \\sum\\limits_{n=-\\infty}^{\\infty} |x(n)|^2$$\n",
    "    \n",
    "    which is the summation of the squares of the magnitude of a signal at different instants. If we define the expression\n",
    "    \n",
    "    $$E_N= \\sum\\limits_{n=-N}^{N} |x(n)|^2$$\n",
    "    \n",
    "    then signal energy is \n",
    "    \n",
    "    $$E= \\lim\\limits_{N\\rightarrow \\infty} E_N$$\n",
    "\n",
    "-   The energy of a signal could be finite or infinite. In general, the energy of a signal with finite non-zero values is finite and the energy of a signal with infinite non-zero values is infinite. Many signals posses infinite energy but have a finite average power.\n",
    "\n",
    "-   The average  **power** of a signal $x(n)$ is defined as:\n",
    "\n",
    "$$P\\equiv \\lim_{N\\rightarrow\\infty}\\dfrac{1}{2N+1}\\sum\\limits_{n=-N}^N |x(n)|^2$$\n",
    "\n",
    "which is the average of the energy of the signal over the entire time range. In general, the power of a signal is finite. When the energy of a signal is finite, its power is 0.\n",
    "\n",
    "-   When the energy of a signal is finite, the signal is called an *energy signal*. The power of an energy signal is 0.\n",
    "\n",
    "-   If the power of a signal $P\\neq 0$ but finite, then the signal is called a *power signal*. The energy of a power signal is infinite.\n",
    "\n"
   ]
  },
  {
   "cell_type": "markdown",
   "metadata": {},
   "source": [
    "## Some Elementary DT Signals"
   ]
  },
  {
   "cell_type": "markdown",
   "metadata": {},
   "source": [
    "-   In signal processing, there are a number of basic signals. These signals play an important role in the analysis of DT signals. These signals include *unit sample signal, unit step signal, sinusoidal signals, exponential signals* etc. One may notice that these signals are also widely used in process control.\n",
    "\n"
   ]
  },
  {
   "cell_type": "markdown",
   "metadata": {},
   "source": [
    "### The unit sample signal\n",
    "\n"
   ]
  },
  {
   "cell_type": "markdown",
   "metadata": {},
   "source": [
    "-   The *unit sample signal* (or called *unit impulse signal*) has a nonzero value (1) when $n$ is zero and has zero value at all the other instants. In this course, we will use $\\delta(n)$ to denote the unit sample signal. It is defined mathematically as follows:\n",
    "    \n",
    "    $$\\delta(n)=\\left\\{\\begin{array}{cc}1, & if\\; n=0 \\\\ 0, & if\\; n\\neq 0\\end{array}\\right.$$\n",
    "    \n",
    "    **Remark:** Recall that in the process control course, in the continuous-time domain, *unit impulse* is defined as a signal such that:\n",
    "    \n",
    "    $$\\int_{t=0^-}^{t=0^+} \\delta(t) dt = 1$$\n",
    "\n"
   ]
  },
  {
   "cell_type": "code",
   "execution_count": 4,
   "metadata": {},
   "outputs": [
    {
     "data": {
      "text/plain": [
       "[<matplotlib.lines.Line2D at 0x159008d0>]"
      ]
     },
     "execution_count": 4,
     "metadata": {},
     "output_type": "execute_result"
    },
    {
     "data": {
      "image/png": "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\n",
      "text/plain": [
       "<Figure size 432x288 with 1 Axes>"
      ]
     },
     "metadata": {
      "needs_background": "light"
     },
     "output_type": "display_data"
    }
   ],
   "source": [
    "import matplotlib.pyplot as plt\n",
    "import numpy as np\n",
    "import math\n",
    "\n",
    "\n",
    "n=np.linspace(-4,4,9)\n",
    "x=np.zeros(len(n))\n",
    "\n",
    "for i in range (0,len(n)-1):\n",
    "      if  n[i]== 0:\n",
    "        x[i]=1\n",
    "      else:\n",
    "        x[i]=0\n",
    "\n",
    "plt.xlabel('n')\n",
    "plt.ylabel('x[n]')\n",
    "plt.xticks(np.arange(-4, 4, step=1))\n",
    "plt.plot(n,x,'bo')\n"
   ]
  },
  {
   "cell_type": "markdown",
   "metadata": {},
   "source": [
    "### The unit step signal\n",
    "\n"
   ]
  },
  {
   "cell_type": "markdown",
   "metadata": {},
   "source": [
    "-   The *unit step signal* has a value one when $n$ is equal to or greater than zero and has zero value at all the other instants. In this course, we will use $u(n)$ to denote the unit step signal. It is defined mathematically as follows:\n",
    "    \n",
    "    $$u(n)=\\left\\{\\begin{array}{cc}1, & if\\; n\\geq0 \\\\ 0, & if\\; n<0\\end{array}\\right.$$\n",
    "    \n",
    "    **Remark:** Recall that in the process control course, in the continuous-time domain, *unit step* is defined similarly but for time $t$:\n",
    "    \n",
    "    $$u(t)=\\left\\{\\begin{array}{cc}1, & if\\; t\\geq0 \\\\ 0, & if\\; t<0\\end{array}\\right.$$\n",
    "\n"
   ]
  },
  {
   "cell_type": "code",
   "execution_count": 5,
   "metadata": {},
   "outputs": [
    {
     "data": {
      "text/plain": [
       "[<matplotlib.lines.Line2D at 0x1690e2d0>]"
      ]
     },
     "execution_count": 5,
     "metadata": {},
     "output_type": "execute_result"
    },
    {
     "data": {
      "image/png": "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\n",
      "text/plain": [
       "<Figure size 432x288 with 1 Axes>"
      ]
     },
     "metadata": {
      "needs_background": "light"
     },
     "output_type": "display_data"
    }
   ],
   "source": [
    "import matplotlib.pyplot as plt\n",
    "import numpy as np\n",
    "import math\n",
    "\n",
    "\n",
    "n=np.linspace(-4,4,9)\n",
    "x=np.zeros(len(n))\n",
    "\n",
    "for i in range (0,len(n)):\n",
    "      if  n[i]>= 0:\n",
    "        x[i]=1\n",
    "      else:\n",
    "        x[i]=0\n",
    "\n",
    "plt.xlabel('n')\n",
    "plt.ylabel('x[n]')\n",
    "plt.xticks(n)\n",
    "plt.plot(n,x,'bo')\n"
   ]
  },
  {
   "cell_type": "markdown",
   "metadata": {},
   "source": [
    "### The unit ramp signal\n",
    "\n"
   ]
  },
  {
   "cell_type": "markdown",
   "metadata": {},
   "source": [
    "-   The *unit ramp signal* is defined mathematically as follows:\n",
    "    \n",
    "    $$u_r(n)=\\left\\{\\begin{array}{cc}n, & if\\; n\\geq0 \\\\ 0, & if\\; n<0\\end{array}\\right.$$\n",
    "\n"
   ]
  },
  {
   "cell_type": "code",
   "execution_count": 6,
   "metadata": {},
   "outputs": [
    {
     "data": {
      "text/plain": [
       "[<matplotlib.lines.Line2D at 0x1694b770>]"
      ]
     },
     "execution_count": 6,
     "metadata": {},
     "output_type": "execute_result"
    },
    {
     "data": {
      "image/png": "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\n",
      "text/plain": [
       "<Figure size 432x288 with 1 Axes>"
      ]
     },
     "metadata": {
      "needs_background": "light"
     },
     "output_type": "display_data"
    }
   ],
   "source": [
    "import matplotlib.pyplot as plt\n",
    "import numpy as np\n",
    "import math\n",
    "\n",
    "\n",
    "n=np.linspace(-4,4,9)\n",
    "x=np.zeros(len(n))\n",
    "\n",
    "for i in range (0,len(n)):\n",
    "      if  n[i]>= 0:\n",
    "        x[i]=n[i]\n",
    "      else:\n",
    "        x[i]=0\n",
    "\n",
    "plt.xlabel('n')\n",
    "plt.ylabel('x[n]')\n",
    "plt.xticks(n)\n",
    "plt.plot(n,x,'bo')"
   ]
  },
  {
   "cell_type": "markdown",
   "metadata": {},
   "source": [
    "### The exponential signal\n",
    "\n"
   ]
  },
  {
   "cell_type": "markdown",
   "metadata": {},
   "source": [
    "-   The *exponential signal* is defined mathematically as follows:\n",
    "    \n",
    "    $$u_r(n)=a^n,\\;\\;\\;\\forall n$$"
   ]
  },
  {
   "cell_type": "markdown",
   "metadata": {},
   "source": [
    "### Properties of unit sample and step signals"
   ]
  },
  {
   "cell_type": "markdown",
   "metadata": {},
   "source": [
    "-   The unit sample and unit step signals are very important elementary signals. They have the following properties. %Note that in the following description, $\\{x(n)\\}$ denotes the sequence of values of $x(n)$ for all possible $n$.\n",
    "    \n",
    "    -   $\\delta(n)=u(n)-u(n-1)$\n",
    "    -   $u(n)=\\sum\\limits_{m=0}^n\\delta(m)$\n",
    "    -   Multiplying any signal by a unit sample selects or \\`sift' out the value of the signal at the instant of the impulse (sampling) such that:\n",
    "        \n",
    "        $$ \\begin{array}{c}\\{x(n)\\}\\cdot \\delta(n) = x(0)\\\\\\{x(n)\\}\\cdot \\delta(n-k) = x(k)\\end{array}$$\n",
    "    \n",
    "    -   Any sequence $x(n)$ can be expressed as the linear combination of shifted impulses such that:\n",
    "        \n",
    "        $$x(n) = \\sum\\limits_{k=-\\infty}^{\\infty}x(k)\\delta(n-k)$$\n",
    "    \n",
    "    -   The energy of the unit sample signal is 1 and the power of the unit sample signal is 0\n",
    "    \n",
    "    $$\\begin{array}{l}E_{\\delta}=\\sum\\limits_{n=-\\infty}^{\\infty} |\\delta(n)|^2=\\ldots + 0 + 1 + 0 + \\ldots = 1\\\\P_{\\delta}=\\displaystyle\\lim_{N\\rightarrow\\infty}\\dfrac{1}{2N+1}\\cdot 1 = 0\\end{array}$$\n",
    "    \n",
    "    -   The energy of the unit step signal is $\\infty$ and the power of the unit step signal is $\\dfrac{1}{2}$\n",
    "    \n",
    "    $$\\begin{array}{l}E_{u}=\\sum\\limits_{n=-\\infty}^{\\infty} |u(n)|^2=\\ldots + 0 + 1 + 1 + \\ldots = \\infty\\\\P_{u}=\\displaystyle\\lim_{N\\rightarrow\\infty}\\dfrac{1}{2N+1}\\sum\\limits_{n=-N}^N|u(n)|^2 = \\lim_{N\\rightarrow\\infty}\\dfrac{N+1}{2N+1}=\\dfrac{1}{2}\\end{array}$$\n",
    "\n"
   ]
  },
  {
   "cell_type": "markdown",
   "metadata": {},
   "source": [
    "## Representation of DT Signals"
   ]
  },
  {
   "cell_type": "markdown",
   "metadata": {},
   "source": [
    "  -   The representation of signals can be:\n",
    "        -   Functional representation. *Ex.*: $$u(n)=\\left\\{\\begin{array}{cc}1, & if\\; n\\geq0 \\\\ 0, & if\\; n<0\\end{array}\\right.$$\n",
    "        -   Tabular representation\n",
    "        -   Sequence representation. *Ex.*: $$x(n)=\\left\\{x(1),x(2),x(3),...,x(n),...\\right\\}$$\n",
    "    \n",
    "    -   Signals can be symmetric (even) and antisymmetric (odd) signals. A signal is symmetric if $x(-n)=x(n)$ and antisymmetric if $x(-n)=-x(n)$. A signal $x(n)$ may be shifted in time by replacing the independent variable $n$ by $n-k$, where $k$ is an integer. If $k$ is a positive integer, the time shift results in a delay of the signal by $k$ units of time. If $k$ is a negative integer, the time shift results in advance of the signal by $k$ units in time.\n",
    "    \n",
    "    -   In the discrete signals, operations are associated with the index of the sequence, for given $n$ one can have:\n",
    "    \n",
    "    $$\\begin{array}{ccc}x(n+1)&=&\\left\\{x(1),x(2),x(3),\\cdots,x(n+1),\\cdots\\right\\}\\\\x(n)&=&\\left\\{x(0),x(1),x(2),\\cdots,x(n),\\cdots\\right\\}\\\\x(n-1)&=&\\left\\{x(-1),x(0),x(1),\\cdots,x(n-1),\\cdots\\right\\}\\end{array}$$\n",
    "    \n",
    "    **Remark:** The algebraic operations of summation, multiplication and subtraction are defined among signals which the same sampling instance $n$, (for example, that is $x_1(n)+x_2(n)\\mapsto x_3(n)$). \n"
   ]
  },
  {
   "cell_type": "markdown",
   "metadata": {},
   "source": [
    "### The shift operators"
   ]
  },
  {
   "cell_type": "markdown",
   "metadata": {},
   "source": [
    "When it comes to defining and relating the discrete signals of different time instances, we need to introduce time shift operators, forward shift and backward shift operators, which can be presented as operators operating on the index of the signal.\n",
    "\n",
    "![img](./FiguresCHE573/ditaa-backshift.png)\n"
   ]
  },
  {
   "cell_type": "code",
   "execution_count": 7,
   "metadata": {},
   "outputs": [
    {
     "data": {
      "text/plain": [
       "<matplotlib.legend.Legend at 0x1699c2f0>"
      ]
     },
     "execution_count": 7,
     "metadata": {},
     "output_type": "execute_result"
    },
    {
     "data": {
      "image/png": "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\n",
      "text/plain": [
       "<Figure size 432x288 with 1 Axes>"
      ]
     },
     "metadata": {
      "needs_background": "light"
     },
     "output_type": "display_data"
    }
   ],
   "source": [
    "import matplotlib.pyplot as plt\n",
    "import numpy as np\n",
    "import math\n",
    "\n",
    "\n",
    "n=np.arange(0,10,1)\n",
    "x=np.zeros(len(n))\n",
    "xm3=np.ones(len(n))*np.nan\n",
    "xp2=np.ones(len(n))*np.nan\n",
    "\n",
    "for i in range (0,len(n)):\n",
    "    if n[i]<=5:\n",
    "        x[i]=n[i]-1\n",
    "    else:\n",
    "        x[i]=4\n",
    "        \n",
    "for i in range (0,len(n)):\n",
    "    if i>=3:\n",
    "        xm3[i]=x[i-3]\n",
    "    if i<=len(n)-1-2:\n",
    "        xp2[i]=x[i+2]\n",
    "plt.xlabel('n')\n",
    "plt.ylabel('x[n]')\n",
    "plt.xticks(n)\n",
    "plt.plot(n,x,'bo',n,xp2,'go',n,xm3,'ro')\n",
    "plt.legend(['x[n]','x[n+2]','x[n-3]'],loc='lower right')"
   ]
  },
  {
   "cell_type": "markdown",
   "metadata": {},
   "source": [
    "## Summary"
   ]
  },
  {
   "cell_type": "markdown",
   "metadata": {},
   "source": [
    "-   We introduced signals (continuous and discrete), signal energy and power, sampling and some basic signal functions\n",
    "\n"
   ]
  },
  {
   "cell_type": "markdown",
   "metadata": {},
   "source": [
    "## Followup actions\n",
    "\n"
   ]
  },
  {
   "cell_type": "markdown",
   "metadata": {},
   "source": [
    "-   Run the python code and change parameters in the sampling of continuous to digital signal\n",
    "\n"
   ]
  }
 ],
 "metadata": {
  "kernelspec": {
   "display_name": "Python 3",
   "language": "python",
   "name": "python3"
  },
  "language_info": {
   "codemirror_mode": {
    "name": "ipython",
    "version": 3
   },
   "file_extension": ".py",
   "mimetype": "text/x-python",
   "name": "python",
   "nbconvert_exporter": "python",
   "pygments_lexer": "ipython3",
   "version": "3.7.4"
  },
  "org": {
   "KEYWORDS": "introduction"
  }
 },
 "nbformat": 4,
 "nbformat_minor": 1
}
>>>>>>> f21b08f474e55cbabdf9435e99e9891fe32e679b
