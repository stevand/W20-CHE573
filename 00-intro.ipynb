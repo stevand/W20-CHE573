{
 "cells": [
  {
   "cell_type": "markdown",
   "metadata": {},
   "source": [
    "- KEYWORDS: introduction\n"
   ]
  },
  {
   "cell_type": "code",
   "execution_count": 1,
   "metadata": {},
   "outputs": [
    {
     "name": "stdout",
     "output_type": "stream",
     "text": [
      "# Out[0]:"
     ]
    }
   ],
   "source": []
  },
  {
   "cell_type": "markdown",
   "metadata": {},
   "source": [
    "## Python\n",
    "\n"
   ]
  },
  {
   "cell_type": "markdown",
   "metadata": {},
   "source": [
    "One of the tools that we will use in class is Python and is better than anything else for what we will do in this class. It is preffered research tool, and it is one of the most popular programming languages around today.\n",
    "\n",
    "We assume most of you have not used Python before so we will start by small steps in introducing the Python and we will build up skills based on it.\n",
    "\n",
    "For a lot of examples of using Python for scientific computing, see our colleague web  [http://kitchingroup.cheme.cmu.edu/pycse/](http://kitchingroup.cheme.cmu.edu/pycse/).\n",
    "\n"
   ]
  },
  {
   "cell_type": "markdown",
   "metadata": {},
   "source": [
    "## Jupyter notebook introduction\n",
    "\n"
   ]
  },
  {
   "cell_type": "markdown",
   "metadata": {},
   "source": [
    "**Jupyter notebooks** are an interactive, browser-based tool for running Python. Jupyter notebooks will be used exclusively in this class. We will quickly build up the skills required to solve systems engineering problems. We will not learn everything about programming, mathematical modeling or engineering processes. Our goal is to get you thinking in a very general way about systems, their modeling and how in computational way to address these problems, and to learn how to use computation as a way to augment your analytical skills.\n",
    "\n",
    "The notes in the form of notebook are available to you during the class and also for you to work along with us.\n",
    "\n"
   ]
  },
  {
   "cell_type": "code",
   "execution_count": 2,
   "metadata": {},
   "outputs": [
    {
     "name": "stdout",
     "output_type": "stream",
     "text": [
      "Hello World! and CHE 573\n"
     ]
    }
   ],
   "source": [
    "print('Hello World! and CHE 573')\n",
    "# Type C-Enter to run this cell\n",
    "# Type shift-Enter to run this cell and got to the next one or create a new one."
   ]
  },
  {
   "cell_type": "markdown",
   "metadata": {},
   "source": [
    "One way to use notebooks for comuptation is to consider a toy problem. What is the value of unknown variable $a$ that satisfies the equation $a + 7 = 10$?\n",
    "\n",
    "By linear algebra algebra, one can subtract 7 from each side of the equation, $a$ will be isolated, and equal to the value of the right hand side of the equation.\n",
    "\n",
    "<div class=\"alert alert-warning\">\n",
    "You can double-click on any text block to see what the Markdown is that generates it. Type C-Enter to re-render the cell.\n",
    "</div>\n",
    "\n",
    "Here is the code that implements that explanation:\n",
    "\n"
   ]
  },
  {
   "cell_type": "code",
   "execution_count": 4,
   "metadata": {},
   "outputs": [
    {
     "data": {
      "text/plain": [
       "8"
      ]
     },
     "execution_count": 4,
     "metadata": {},
     "output_type": "execute_result"
    }
   ],
   "source": [
    "a = 15 - 7\n",
    "a  # this makes the value of x get displayed"
   ]
  },
  {
   "cell_type": "markdown",
   "metadata": {},
   "source": [
    "[numpy](http://www.numpy.org) is a Python library for arrays. Every time we want to deal with numerics and python we have to import this library to access the functionality in it. The conventional way to import this library is:\n",
    "\n",
    "<div class=\"alert alert-warning\">\n",
    "Remember this cell. You will use it almost every time.\n",
    "</div>\n",
    "\n"
   ]
  },
  {
   "cell_type": "code",
   "execution_count": 5,
   "metadata": {},
   "outputs": [],
   "source": [
    "import numpy as np"
   ]
  },
  {
   "cell_type": "markdown",
   "metadata": {},
   "source": [
    "To see help on the numpy library, run this cell:\n",
    "\n"
   ]
  },
  {
   "cell_type": "code",
   "execution_count": 6,
   "metadata": {},
   "outputs": [
    {
     "data": {
      "text/plain": [
       "<module 'numpy' from '//anaconda3/lib/python3.7/site-packages/numpy/__init__.py'>"
      ]
     },
     "execution_count": 6,
     "metadata": {},
     "output_type": "execute_result"
    }
   ],
   "source": [
    "np"
   ]
  },
  {
   "cell_type": "markdown",
   "metadata": {},
   "source": [
    "Now, we can access functions in the numpy module using \"dot notation\". For example, let us start by creating an array of linearly spaced points using the linspace function. First, we access the help to see how to use it. This \"dot\" notation uses the functionality of the np.classes and in particular allows for a lot of build functions.\n",
    "\n"
   ]
  },
  {
   "cell_type": "code",
   "execution_count": 7,
   "metadata": {},
   "outputs": [
    {
     "data": {
      "text/plain": [
       "<function numpy.linspace(start, stop, num=50, endpoint=True, retstep=False, dtype=None, axis=0)>"
      ]
     },
     "execution_count": 7,
     "metadata": {},
     "output_type": "execute_result"
    }
   ],
   "source": [
    "np.linspace"
   ]
  },
  {
   "cell_type": "markdown",
   "metadata": {},
   "source": [
    "<div class=\"alert alert-warning\">\n",
    "np.pi is a constant for the number $\\pi$\n",
    "</div>\n",
    "\n"
   ]
  },
  {
   "cell_type": "code",
   "execution_count": 8,
   "metadata": {},
   "outputs": [
    {
     "data": {
      "text/plain": [
       "array([ 0.        ,  0.25645654,  0.51291309,  0.76936963,  1.02582617,\n",
       "        1.28228272,  1.53873926,  1.7951958 ,  2.05165235,  2.30810889,\n",
       "        2.56456543,  2.82102197,  3.07747852,  3.33393506,  3.5903916 ,\n",
       "        3.84684815,  4.10330469,  4.35976123,  4.61621778,  4.87267432,\n",
       "        5.12913086,  5.38558741,  5.64204395,  5.89850049,  6.15495704,\n",
       "        6.41141358,  6.66787012,  6.92432667,  7.18078321,  7.43723975,\n",
       "        7.69369629,  7.95015284,  8.20660938,  8.46306592,  8.71952247,\n",
       "        8.97597901,  9.23243555,  9.4888921 ,  9.74534864, 10.00180518,\n",
       "       10.25826173, 10.51471827, 10.77117481, 11.02763136, 11.2840879 ,\n",
       "       11.54054444, 11.79700098, 12.05345753, 12.30991407, 12.56637061])"
      ]
     },
     "execution_count": 8,
     "metadata": {},
     "output_type": "execute_result"
    }
   ],
   "source": [
    "x = np.linspace(0, 4 * np.pi)\n",
    "x"
   ]
  },
  {
   "cell_type": "markdown",
   "metadata": {},
   "source": [
    "Most mathematical operations are element-wise on arrays.\n",
    "\n"
   ]
  },
  {
   "cell_type": "code",
   "execution_count": 9,
   "metadata": {},
   "outputs": [
    {
     "data": {
      "text/plain": [
       "array([ 0.        ,  0.51291309,  1.02582617,  1.53873926,  2.05165235,\n",
       "        2.56456543,  3.07747852,  3.5903916 ,  4.10330469,  4.61621778,\n",
       "        5.12913086,  5.64204395,  6.15495704,  6.66787012,  7.18078321,\n",
       "        7.69369629,  8.20660938,  8.71952247,  9.23243555,  9.74534864,\n",
       "       10.25826173, 10.77117481, 11.2840879 , 11.79700098, 12.30991407,\n",
       "       12.82282716, 13.33574024, 13.84865333, 14.36156642, 14.8744795 ,\n",
       "       15.38739259, 15.90030568, 16.41321876, 16.92613185, 17.43904493,\n",
       "       17.95195802, 18.46487111, 18.97778419, 19.49069728, 20.00361037,\n",
       "       20.51652345, 21.02943654, 21.54234962, 22.05526271, 22.5681758 ,\n",
       "       23.08108888, 23.59400197, 24.10691506, 24.61982814, 25.13274123])"
      ]
     },
     "execution_count": 9,
     "metadata": {},
     "output_type": "execute_result"
    }
   ],
   "source": [
    "2 * x"
   ]
  },
  {
   "cell_type": "markdown",
   "metadata": {},
   "source": [
    "The way to acces the vector is to apply th eindex of the element in the array. A key point to remember is that in python array/vector indices start at 0 and it is denoted with brackets, which is different from Matlab, which uses parentheses to index a array.\n",
    "\n",
    "How about matrix. In python, we use row, column notation. We use a : to indicate all rows or all columns.\n",
    "\n"
   ]
  },
  {
   "cell_type": "code",
   "execution_count": 10,
   "metadata": {},
   "outputs": [
    {
     "name": "stdout",
     "output_type": "stream",
     "text": [
      "[1 2 3]\n",
      "[1 4 7]\n"
     ]
    }
   ],
   "source": [
    "a = np.array([[1, 2, 3], \n",
    "              [4, 5, 6], \n",
    "              [7, 8, 9]]) \n",
    "print (a[0,:]) # row one\n",
    "print (a[:,0]) # column one"
   ]
  },
  {
   "cell_type": "markdown",
   "metadata": {},
   "source": [
    "We can define new variables\n",
    "\n"
   ]
  },
  {
   "cell_type": "code",
   "execution_count": 11,
   "metadata": {},
   "outputs": [],
   "source": [
    "y1 = np.sin(x)\n",
    "y2 = np.cos(x)"
   ]
  },
  {
   "cell_type": "markdown",
   "metadata": {},
   "source": [
    "### plotting\n",
    "\n"
   ]
  },
  {
   "cell_type": "markdown",
   "metadata": {},
   "source": [
    "Plots are made by using [matplotlib](https://matplotlib.org). First, we immort  matplotlib and the %matplotlib inline if we are using a Jupyter notebook. \n",
    "\n",
    "<div class=\"alert alert-warning\">\n",
    "Remember this cell. You will use it almost every time you make a plot.\n",
    "</div>\n",
    "\n"
   ]
  },
  {
   "cell_type": "code",
   "execution_count": 12,
   "metadata": {},
   "outputs": [],
   "source": [
    "%matplotlib inline\n",
    "import matplotlib.pyplot as plt"
   ]
  },
  {
   "cell_type": "markdown",
   "metadata": {},
   "source": [
    "You call functions in the plt library to create plots. These are automatically saved in the notebook.\n",
    "\n"
   ]
  },
  {
   "cell_type": "code",
   "execution_count": 13,
   "metadata": {},
   "outputs": [
    {
     "data": {
      "text/plain": [
       "<matplotlib.legend.Legend at 0x1190867d0>"
      ]
     },
     "execution_count": 13,
     "metadata": {},
     "output_type": "execute_result"
    },
    {
     "data": {
      "image/png": "[encoded data removed]",
      "text/plain": [
       "<Figure size 432x288 with 1 Axes>"
      ]
     },
     "metadata": {
      "needs_background": "light"
     },
     "output_type": "display_data"
    }
   ],
   "source": [
    "plt.plot(x, y1, x, y2)\n",
    "plt.xlabel('x')\n",
    "plt.ylabel('y')\n",
    "plt.legend(['y1', 'y2'])\n",
    "# Always include axis labels and legends when appropriate"
   ]
  },
  {
   "cell_type": "markdown",
   "metadata": {},
   "source": [
    "[scipy](https://www.scipy.org) contains numerous libraries for a broad range of scientific computing needs.\n",
    "\n",
    "Suppose we want to perform the [following integral](https://docs.scipy.org/doc/scipy/reference/tutorial/integrate.html#general-integration-quad): $I = \\int_0^{4.5} J_{2.5}(x) dx$. The function $J_{2.5}$ is a special function known as a Bessel function. scipy provides both the integration function, and an implementation of the special function we can use.\n",
    "\n"
   ]
  },
  {
   "cell_type": "code",
   "execution_count": 1,
   "metadata": {},
   "outputs": [
    {
     "name": "stdout",
     "output_type": "stream",
     "text": [
      "# Out[12]:"
     ]
    }
   ],
   "source": [
    "from scipy.integrate import quad\n",
    "from scipy.special import jv"
   ]
  },
  {
   "cell_type": "code",
   "execution_count": 1,
   "metadata": {},
   "outputs": [
    {
     "name": "stdout",
     "output_type": "stream",
     "text": [
      "# Out[13]:\n",
      ": <function scipy.integrate.quadpack.quad>"
     ]
    }
   ],
   "source": [
    "quad"
   ]
  },
  {
   "cell_type": "code",
   "execution_count": 1,
   "metadata": {},
   "outputs": [
    {
     "name": "stdout",
     "output_type": "stream",
     "text": [
      "# Out[15]:\n",
      ": <ufunc 'jv'>"
     ]
    }
   ],
   "source": [
    "jv"
   ]
  },
  {
   "cell_type": "markdown",
   "metadata": {},
   "source": [
    "To evaluate this integral, we have to define a function for the integrand, and use the quad function to compute the integral. The quad function returns two values, the value of the integral, and an estimate of the maximum error in the integral.\n",
    "\n"
   ]
  },
  {
   "cell_type": "code",
   "execution_count": 1,
   "metadata": {},
   "outputs": [
    {
     "name": "stdout",
     "output_type": "stream",
     "text": [
      "# Out[16]:\n",
      ": (1.1178179380783253, 7.866317216380692e-09)"
     ]
    }
   ],
   "source": [
    "# This is how we define a function. There is a function name, and arguments\n",
    "# The function returns the output of the jv function.\n",
    "def integrand(x):\n",
    "    return jv(2.5, x)\n",
    "\n",
    "I, err = quad(integrand, 0, 4.5)\n",
    "\n",
    "I, err"
   ]
  },
  {
   "cell_type": "markdown",
   "metadata": {},
   "source": [
    "## Summary\n",
    "\n"
   ]
  },
  {
   "cell_type": "markdown",
   "metadata": {},
   "source": [
    "Today the basic ideas about using Jupyter notebooks to run Python computations are introduced. The main points are:\n",
    "\n",
    "1.  Code is run in code cells\n",
    "2.  You have to import some functions from libraries\n",
    "3.  **numpy**, **scipy** and **matplotlib** are three of the main scientific programming libraries used in this class.\n",
    "4.  We saw some ways to get help on functions\n",
    "\n",
    "Next time we will dig into defining functions more deeply, and how to print formatted strings containing results.\n",
    "\n"
   ]
  },
  {
   "cell_type": "markdown",
   "metadata": {},
   "source": [
    "## Followup actions\n",
    "\n"
   ]
  },
  {
   "cell_type": "markdown",
   "metadata": {},
   "source": [
    "By the next class, you should all have Anaconda Python 3.7 installed.\n",
    "\n"
   ]
  }
 ],
 "metadata": {
  "kernelspec": {
   "display_name": "Python 3",
   "language": "python",
   "name": "python3"
  },
  "language_info": {
   "codemirror_mode": {
    "name": "ipython",
    "version": 3
   },
   "file_extension": ".py",
   "mimetype": "text/x-python",
   "name": "python",
   "nbconvert_exporter": "python",
   "pygments_lexer": "ipython3",
   "version": "3.7.7"
  },
  "org": {
   "KEYWORDS": "introduction"
  },
  "toc": {
   "base_numbering": 1,
   "nav_menu": {},
   "number_sections": false,
   "sideBar": false,
   "skip_h1_title": false,
   "title_cell": "Table of Contents",
   "title_sidebar": "Contents",
   "toc_cell": false,
   "toc_position": {},
   "toc_section_display": false,
   "toc_window_display": false
  }
 },
 "nbformat": 4,
 "nbformat_minor": 1
}
